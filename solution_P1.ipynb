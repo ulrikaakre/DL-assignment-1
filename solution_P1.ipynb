{
 "cells": [
  {
   "attachments": {},
   "cell_type": "markdown",
   "metadata": {},
   "source": [
    "# Assignment 1 - Candidate 50507"
   ]
  },
  {
   "attachments": {},
   "cell_type": "markdown",
   "metadata": {},
   "source": [
    "All imports for this assignment:"
   ]
  },
  {
   "cell_type": "code",
   "execution_count": 570,
   "metadata": {},
   "outputs": [],
   "source": [
    "# data preprocessing modules\n",
    "from sklearn import metrics\n",
    "\n",
    "# ML modules\n",
    "import tensorflow as tf\n",
    "import keras\n",
    "from keras.models import Sequential\n",
    "from keras.layers import Dense, Input, Lambda, Activation, Concatenate, Conv1D, Flatten\n",
    "from keras.optimizers import Adam\n",
    "from keras.utils import plot_model\n",
    "\n",
    "# general stuff\n",
    "import pandas as pd\n",
    "import io\n",
    "import os\n",
    "import requests\n",
    "import numpy as np\n",
    "import matplotlib.pyplot as plt\n",
    "%matplotlib inline"
   ]
  },
  {
   "attachments": {},
   "cell_type": "markdown",
   "metadata": {},
   "source": [
    "This is performed on my own computer. Not google colab. Limited GPU resources. Images of figures are provided."
   ]
  },
  {
   "attachments": {},
   "cell_type": "markdown",
   "metadata": {},
   "source": [
    "## P1 - Permutation-invariant functions"
   ]
  },
  {
   "attachments": {},
   "cell_type": "markdown",
   "metadata": {},
   "source": [
    "### P1.1 - NN Implementation"
   ]
  },
  {
   "cell_type": "code",
   "execution_count": 571,
   "metadata": {},
   "outputs": [],
   "source": [
    "df_train = pd.read_csv('./data/train-1.csv')\n",
    "df_test = pd.read_csv('./data/test-1.csv')"
   ]
  },
  {
   "cell_type": "code",
   "execution_count": 572,
   "metadata": {},
   "outputs": [
    {
     "data": {
      "text/html": [
       "<div>\n",
       "<style scoped>\n",
       "    .dataframe tbody tr th:only-of-type {\n",
       "        vertical-align: middle;\n",
       "    }\n",
       "\n",
       "    .dataframe tbody tr th {\n",
       "        vertical-align: top;\n",
       "    }\n",
       "\n",
       "    .dataframe thead th {\n",
       "        text-align: right;\n",
       "    }\n",
       "</style>\n",
       "<table border=\"1\" class=\"dataframe\">\n",
       "  <thead>\n",
       "    <tr style=\"text-align: right;\">\n",
       "      <th></th>\n",
       "      <th>4.431320074018723076e-01</th>\n",
       "      <th>5.324051314609411500e-01</th>\n",
       "      <th>4.377698250476299568e-01</th>\n",
       "      <th>6.196628821722993674e-02</th>\n",
       "      <th>7.836767313308944383e-01</th>\n",
       "      <th>9.357891820280233031e-01</th>\n",
       "      <th>9.091042324650751016e-01</th>\n",
       "      <th>6.836156825808235027e-01</th>\n",
       "      <th>8.954095712546213948e-01</th>\n",
       "      <th>8.711219633267553997e-01</th>\n",
       "      <th>7.336462069558589150e-01</th>\n",
       "    </tr>\n",
       "  </thead>\n",
       "  <tbody>\n",
       "    <tr>\n",
       "      <th>0</th>\n",
       "      <td>0.270151</td>\n",
       "      <td>0.563418</td>\n",
       "      <td>0.136042</td>\n",
       "      <td>0.164526</td>\n",
       "      <td>0.013159</td>\n",
       "      <td>0.731077</td>\n",
       "      <td>0.961079</td>\n",
       "      <td>0.202600</td>\n",
       "      <td>0.921334</td>\n",
       "      <td>0.731678</td>\n",
       "      <td>0.416784</td>\n",
       "    </tr>\n",
       "    <tr>\n",
       "      <th>1</th>\n",
       "      <td>0.571161</td>\n",
       "      <td>0.124119</td>\n",
       "      <td>0.826382</td>\n",
       "      <td>0.692914</td>\n",
       "      <td>0.817431</td>\n",
       "      <td>0.573339</td>\n",
       "      <td>0.248638</td>\n",
       "      <td>0.632073</td>\n",
       "      <td>0.606688</td>\n",
       "      <td>0.348984</td>\n",
       "      <td>0.590013</td>\n",
       "    </tr>\n",
       "    <tr>\n",
       "      <th>2</th>\n",
       "      <td>0.414595</td>\n",
       "      <td>0.541134</td>\n",
       "      <td>0.383968</td>\n",
       "      <td>0.696607</td>\n",
       "      <td>0.113355</td>\n",
       "      <td>0.591044</td>\n",
       "      <td>0.770690</td>\n",
       "      <td>0.016159</td>\n",
       "      <td>0.291561</td>\n",
       "      <td>0.666265</td>\n",
       "      <td>0.477864</td>\n",
       "    </tr>\n",
       "    <tr>\n",
       "      <th>3</th>\n",
       "      <td>0.069221</td>\n",
       "      <td>0.047482</td>\n",
       "      <td>0.269938</td>\n",
       "      <td>0.812681</td>\n",
       "      <td>0.533125</td>\n",
       "      <td>0.091919</td>\n",
       "      <td>0.581794</td>\n",
       "      <td>0.854649</td>\n",
       "      <td>0.298028</td>\n",
       "      <td>0.819031</td>\n",
       "      <td>0.415577</td>\n",
       "    </tr>\n",
       "    <tr>\n",
       "      <th>4</th>\n",
       "      <td>0.685363</td>\n",
       "      <td>0.227652</td>\n",
       "      <td>0.694577</td>\n",
       "      <td>0.806527</td>\n",
       "      <td>0.368828</td>\n",
       "      <td>0.295510</td>\n",
       "      <td>0.633057</td>\n",
       "      <td>0.680897</td>\n",
       "      <td>0.293867</td>\n",
       "      <td>0.463691</td>\n",
       "      <td>0.548374</td>\n",
       "    </tr>\n",
       "  </tbody>\n",
       "</table>\n",
       "</div>"
      ],
      "text/plain": [
       "   4.431320074018723076e-01  5.324051314609411500e-01  \\\n",
       "0                  0.270151                  0.563418   \n",
       "1                  0.571161                  0.124119   \n",
       "2                  0.414595                  0.541134   \n",
       "3                  0.069221                  0.047482   \n",
       "4                  0.685363                  0.227652   \n",
       "\n",
       "   4.377698250476299568e-01  6.196628821722993674e-02  \\\n",
       "0                  0.136042                  0.164526   \n",
       "1                  0.826382                  0.692914   \n",
       "2                  0.383968                  0.696607   \n",
       "3                  0.269938                  0.812681   \n",
       "4                  0.694577                  0.806527   \n",
       "\n",
       "   7.836767313308944383e-01  9.357891820280233031e-01  \\\n",
       "0                  0.013159                  0.731077   \n",
       "1                  0.817431                  0.573339   \n",
       "2                  0.113355                  0.591044   \n",
       "3                  0.533125                  0.091919   \n",
       "4                  0.368828                  0.295510   \n",
       "\n",
       "   9.091042324650751016e-01  6.836156825808235027e-01  \\\n",
       "0                  0.961079                  0.202600   \n",
       "1                  0.248638                  0.632073   \n",
       "2                  0.770690                  0.016159   \n",
       "3                  0.581794                  0.854649   \n",
       "4                  0.633057                  0.680897   \n",
       "\n",
       "   8.954095712546213948e-01  8.711219633267553997e-01  \\\n",
       "0                  0.921334                  0.731678   \n",
       "1                  0.606688                  0.348984   \n",
       "2                  0.291561                  0.666265   \n",
       "3                  0.298028                  0.819031   \n",
       "4                  0.293867                  0.463691   \n",
       "\n",
       "   7.336462069558589150e-01  \n",
       "0                  0.416784  \n",
       "1                  0.590013  \n",
       "2                  0.477864  \n",
       "3                  0.415577  \n",
       "4                  0.548374  "
      ]
     },
     "execution_count": 572,
     "metadata": {},
     "output_type": "execute_result"
    }
   ],
   "source": [
    "df_train.head()"
   ]
  },
  {
   "cell_type": "code",
   "execution_count": 573,
   "metadata": {},
   "outputs": [
    {
     "name": "stdout",
     "output_type": "stream",
     "text": [
      "train: (99999, 11)\n",
      "test: (9999, 11)\n"
     ]
    }
   ],
   "source": [
    "print(f'train: {df_train.shape}')\n",
    "print(f'test: {df_test.shape}')"
   ]
  },
  {
   "cell_type": "code",
   "execution_count": 574,
   "metadata": {},
   "outputs": [
    {
     "name": "stdout",
     "output_type": "stream",
     "text": [
      "X_train: (99999, 10)\n",
      "y_train: (99999, 1)\n",
      "X_test: (9999, 10)\n",
      "y_test: (9999, 1)\n"
     ]
    }
   ],
   "source": [
    "X_train = df_train.drop(df_train.columns[-1], axis=1)\n",
    "y_train = df_train.drop(df_train.columns[0:10],axis=1)\n",
    "\n",
    "X_test = df_test.drop(df_test.columns[-1], axis=1)\n",
    "y_test = df_test.drop(df_test.columns[0:10],axis=1)\n",
    "print(f'X_train: {X_train.shape}')\n",
    "print(f'y_train: {y_train.shape}')\n",
    "print(f'X_test: {X_test.shape}')\n",
    "print(f'y_test: {y_test.shape}')"
   ]
  },
  {
   "cell_type": "code",
   "execution_count": 575,
   "metadata": {},
   "outputs": [
    {
     "data": {
      "text/plain": [
       "(10,)"
      ]
     },
     "execution_count": 575,
     "metadata": {},
     "output_type": "execute_result"
    }
   ],
   "source": [
    "# Input shape\n",
    "n_features = X_train.shape[1:]\n",
    "n_features"
   ]
  },
  {
   "cell_type": "code",
   "execution_count": 602,
   "metadata": {},
   "outputs": [
    {
     "name": "stdout",
     "output_type": "stream",
     "text": [
      "Model: \"O\"\n",
      "_________________________________________________________________\n",
      " Layer (type)                Output Shape              Param #   \n",
      "=================================================================\n",
      " dense_248 (Dense)           (None, 100)               1100      \n",
      "                                                                 \n",
      " dense_249 (Dense)           (None, 10)                1010      \n",
      "                                                                 \n",
      "=================================================================\n",
      "Total params: 2,110\n",
      "Trainable params: 2,110\n",
      "Non-trainable params: 0\n",
      "_________________________________________________________________\n"
     ]
    }
   ],
   "source": [
    "# Model 1\n",
    "lat_dim= 10 # Temporary value for lat_dim variable\n",
    "\n",
    "def model1(lat_dim):\n",
    "  network_Φ = Sequential(name='O')\n",
    "  network_Φ.add(Dense(100, activation='relu', input_shape=n_features))\n",
    "  network_Φ.add(Dense(lat_dim, activation='softmax'))\n",
    "\n",
    "  return network_Φ\n",
    "\n",
    "model1(lat_dim).summary()"
   ]
  },
  {
   "cell_type": "code",
   "execution_count": 603,
   "metadata": {},
   "outputs": [
    {
     "name": "stdout",
     "output_type": "stream",
     "text": [
      "Model: \"p\"\n",
      "_________________________________________________________________\n",
      " Layer (type)                Output Shape              Param #   \n",
      "=================================================================\n",
      " lambda_14 (Lambda)          (None, 1)                 0         \n",
      "                                                                 \n",
      " dense_250 (Dense)           (None, 100)               200       \n",
      "                                                                 \n",
      " dense_251 (Dense)           (None, 1)                 101       \n",
      "                                                                 \n",
      "=================================================================\n",
      "Total params: 301\n",
      "Trainable params: 301\n",
      "Non-trainable params: 0\n",
      "_________________________________________________________________\n"
     ]
    }
   ],
   "source": [
    "# Model 2\n",
    "def model2(lat_dim):\n",
    "  network_ρ = Sequential(name='p')\n",
    "  network_ρ.add(Lambda(lambda x: tf.reduce_sum(x, axis=1, keepdims=True), input_shape=(lat_dim,))),\n",
    "  network_ρ.add(Dense(100, activation='relu'))\n",
    "  network_ρ.add(Dense(1))\n",
    "\n",
    "  return network_ρ\n",
    "\n",
    "model2(lat_dim).summary()"
   ]
  },
  {
   "cell_type": "code",
   "execution_count": 608,
   "metadata": {},
   "outputs": [],
   "source": [
    "# Combined model\n",
    "def combined_model(lat_dim):\n",
    "  combined_model_input = Input(shape=n_features)\n",
    "\n",
    "  model_Φ_output = model1(lat_dim)(combined_model_input)\n",
    "  model_ρ_output = model2(lat_dim)(model_Φ_output)\n",
    "\n",
    "  concat = Concatenate()([model_Φ_output, model_ρ_output])\n",
    "  combined_model_output = Dense(1)(concat)\n",
    "  combined_model = keras.Model(inputs=combined_model_input, outputs=combined_model_output)\n",
    "  return combined_model"
   ]
  },
  {
   "cell_type": "code",
   "execution_count": 614,
   "metadata": {},
   "outputs": [
    {
     "name": "stdout",
     "output_type": "stream",
     "text": [
      "Model: \"model_133\"\n",
      "__________________________________________________________________________________________________\n",
      " Layer (type)                   Output Shape         Param #     Connected to                     \n",
      "==================================================================================================\n",
      " input_195 (InputLayer)         [(None, 10)]         0           []                               \n",
      "                                                                                                  \n",
      " O (Sequential)                 (None, 10)           2110        ['input_195[0][0]']              \n",
      "                                                                                                  \n",
      " p (Sequential)                 (None, 1)            301         ['O[0][0]']                      \n",
      "                                                                                                  \n",
      " concatenate_30 (Concatenate)   (None, 11)           0           ['O[0][0]',                      \n",
      "                                                                  'p[0][0]']                      \n",
      "                                                                                                  \n",
      " dense_281 (Dense)              (None, 1)            12          ['concatenate_30[0][0]']         \n",
      "                                                                                                  \n",
      "==================================================================================================\n",
      "Total params: 2,423\n",
      "Trainable params: 2,423\n",
      "Non-trainable params: 0\n",
      "__________________________________________________________________________________________________\n"
     ]
    }
   ],
   "source": [
    "combined_model1 = combined_model(lat_dim)\n",
    "combined_model1.summary()"
   ]
  },
  {
   "cell_type": "code",
   "execution_count": 615,
   "metadata": {},
   "outputs": [
    {
     "data": {
      "image/png": "[encoded data removed]",
      "text/plain": [
       "<IPython.core.display.Image object>"
      ]
     },
     "execution_count": 615,
     "metadata": {},
     "output_type": "execute_result"
    }
   ],
   "source": [
    "plot_model(combined_model1, 'P11-combined-model.png', show_shapes=True)"
   ]
  },
  {
   "attachments": {},
   "cell_type": "markdown",
   "metadata": {},
   "source": [
    "Explanation of implementation:\n",
    "- I first create the two individual models O and p by using the Sequential API. \n",
    "- Network_O takes input shape as the input shape of the training data, as in the combined model model O will be structuren \"first\" in the architecture.\n",
    "- Network_O has then a Dense layer and an output layer with `lat_dim` dimentions, being passed as a parameter\n",
    "- Network_p has a first layer that is customized through the `Lambda` layer to apply the sum-decomposition function to the inputs (the outputs of networkO). The function applies a reduction operation to sum the values. This collapsed tensor is then fed as input to network_p\n",
    "- Lastly, the combined model uses the lower level Functional API to allow for more customization. This model takes `lat_dim`as parameter to descide the input/output shape of the two sub_models. Then, there is a Concatinate layer that concatinates the outputs of the network_O and network_p. This results in a single tensor which is then passed to a last Dense layer that performs linear transformation."
   ]
  },
  {
   "attachments": {},
   "cell_type": "markdown",
   "metadata": {},
   "source": [
    "### P1.2"
   ]
  },
  {
   "attachments": {},
   "cell_type": "markdown",
   "metadata": {},
   "source": [
    "##### lat_dim = 5"
   ]
  },
  {
   "cell_type": "code",
   "execution_count": 629,
   "metadata": {},
   "outputs": [
    {
     "name": "stdout",
     "output_type": "stream",
     "text": [
      "Epoch 1/10\n"
     ]
    },
    {
     "name": "stderr",
     "output_type": "stream",
     "text": [
      "2023-02-24 13:29:16.445121: I tensorflow/core/grappler/optimizers/custom_graph_optimizer_registry.cc:114] Plugin optimizer for device_type GPU is enabled.\n"
     ]
    },
    {
     "name": "stdout",
     "output_type": "stream",
     "text": [
      "704/704 [==============================] - ETA: 0s - loss: 0.0767 - acc: 0.0000e+00"
     ]
    },
    {
     "name": "stderr",
     "output_type": "stream",
     "text": [
      "2023-02-24 13:29:21.488275: I tensorflow/core/grappler/optimizers/custom_graph_optimizer_registry.cc:114] Plugin optimizer for device_type GPU is enabled.\n"
     ]
    },
    {
     "name": "stdout",
     "output_type": "stream",
     "text": [
      "704/704 [==============================] - 6s 7ms/step - loss: 0.0767 - acc: 0.0000e+00 - val_loss: 0.0618 - val_acc: 0.0000e+00\n",
      "Epoch 2/10\n",
      "704/704 [==============================] - 5s 7ms/step - loss: 0.0519 - acc: 0.0000e+00 - val_loss: 0.0426 - val_acc: 0.0000e+00\n",
      "Epoch 3/10\n",
      "704/704 [==============================] - 5s 7ms/step - loss: 0.0366 - acc: 0.0000e+00 - val_loss: 0.0308 - val_acc: 0.0000e+00\n",
      "Epoch 4/10\n",
      "704/704 [==============================] - 5s 7ms/step - loss: 0.0272 - acc: 0.0000e+00 - val_loss: 0.0236 - val_acc: 0.0000e+00\n",
      "Epoch 5/10\n",
      "704/704 [==============================] - 5s 7ms/step - loss: 0.0215 - acc: 0.0000e+00 - val_loss: 0.0193 - val_acc: 0.0000e+00\n",
      "Epoch 6/10\n",
      "704/704 [==============================] - 5s 7ms/step - loss: 0.0181 - acc: 0.0000e+00 - val_loss: 0.0166 - val_acc: 0.0000e+00\n",
      "Epoch 7/10\n",
      "704/704 [==============================] - 5s 7ms/step - loss: 0.0160 - acc: 0.0000e+00 - val_loss: 0.0151 - val_acc: 0.0000e+00\n",
      "Epoch 8/10\n",
      "704/704 [==============================] - 5s 7ms/step - loss: 0.0148 - acc: 0.0000e+00 - val_loss: 0.0141 - val_acc: 0.0000e+00\n",
      "Epoch 9/10\n",
      "704/704 [==============================] - 5s 7ms/step - loss: 0.0140 - acc: 0.0000e+00 - val_loss: 0.0136 - val_acc: 0.0000e+00\n",
      "Epoch 10/10\n",
      "704/704 [==============================] - 5s 7ms/step - loss: 0.0136 - acc: 0.0000e+00 - val_loss: 0.0132 - val_acc: 0.0000e+00\n",
      " 65/313 [=====>........................] - ETA: 0s"
     ]
    },
    {
     "name": "stderr",
     "output_type": "stream",
     "text": [
      "2023-02-24 13:30:04.707865: I tensorflow/core/grappler/optimizers/custom_graph_optimizer_registry.cc:114] Plugin optimizer for device_type GPU is enabled.\n"
     ]
    },
    {
     "name": "stdout",
     "output_type": "stream",
     "text": [
      "313/313 [==============================] - 1s 2ms/step\n",
      "---------------\n",
      "Final score (MSE) : 0.01352747187656664\n"
     ]
    }
   ],
   "source": [
    "lat_dim = 5\n",
    "val_split = 0.1\n",
    "n_epochs = 10\n",
    "batch_size = 128\n",
    "optimizer = keras.optimizers.SGD(learning_rate=1e-4)\n",
    "\n",
    "model_l5 = combined_model(lat_dim)\n",
    "model_l5.compile(optimizer=optimizer, loss='MSE', metrics=['acc'])\n",
    "history = model_l5.fit(X_train,                          \n",
    "                y_train,                          \n",
    "                epochs=n_epochs,                  \n",
    "                batch_size=batch_size,  \n",
    "                validation_split=val_split\n",
    "                )\n",
    "pred = model_l5.predict(X_test)\n",
    "score = metrics.mean_squared_error(pred, y_test)\n",
    "print(f\"---------------\")\n",
    "print(f\"Final score (MSE) : {score}\")\n"
   ]
  },
  {
   "cell_type": "code",
   "execution_count": 630,
   "metadata": {},
   "outputs": [
    {
     "data": {
      "image/png": "[encoded data removed]",
      "text/plain": [
       "<Figure size 640x480 with 1 Axes>"
      ]
     },
     "metadata": {},
     "output_type": "display_data"
    }
   ],
   "source": [
    "loss = history.history['loss']\n",
    "val_loss = history.history['val_loss']\n",
    "epochs = range(1, len(loss) + 1)\n",
    "\n",
    "# Plotting training and validation loss\n",
    "plt.plot(epochs, loss, 'b', label='Training loss')\n",
    "plt.plot(epochs, val_loss, 'r', label='Validation loss')\n",
    "plt.title('lat_dim = 5: Training and validation loss')\n",
    "plt.xlabel('Epochs')\n",
    "plt.ylabel('Loss')\n",
    "plt.legend()\n",
    "# plt.xscale(value='log')\n",
    "#plt.yscale(value='log')\n",
    "plt.grid()\n",
    "plt.show()"
   ]
  },
  {
   "attachments": {},
   "cell_type": "markdown",
   "metadata": {},
   "source": [
    "##### lat_dim = 100"
   ]
  },
  {
   "cell_type": "code",
   "execution_count": 631,
   "metadata": {},
   "outputs": [
    {
     "name": "stdout",
     "output_type": "stream",
     "text": [
      "Epoch 1/10\n"
     ]
    },
    {
     "name": "stderr",
     "output_type": "stream",
     "text": [
      "2023-02-24 13:31:18.996647: I tensorflow/core/grappler/optimizers/custom_graph_optimizer_registry.cc:114] Plugin optimizer for device_type GPU is enabled.\n"
     ]
    },
    {
     "name": "stdout",
     "output_type": "stream",
     "text": [
      "704/704 [==============================] - ETA: 0s - loss: 0.2324 - acc: 0.0000e+00"
     ]
    },
    {
     "name": "stderr",
     "output_type": "stream",
     "text": [
      "2023-02-24 13:31:24.007925: I tensorflow/core/grappler/optimizers/custom_graph_optimizer_registry.cc:114] Plugin optimizer for device_type GPU is enabled.\n"
     ]
    },
    {
     "name": "stdout",
     "output_type": "stream",
     "text": [
      "704/704 [==============================] - 6s 7ms/step - loss: 0.2324 - acc: 0.0000e+00 - val_loss: 0.2021 - val_acc: 0.0000e+00\n",
      "Epoch 2/10\n",
      "704/704 [==============================] - 5s 7ms/step - loss: 0.1793 - acc: 0.0000e+00 - val_loss: 0.1564 - val_acc: 0.0000e+00\n",
      "Epoch 3/10\n",
      "704/704 [==============================] - 5s 7ms/step - loss: 0.1394 - acc: 0.0000e+00 - val_loss: 0.1221 - val_acc: 0.0000e+00\n",
      "Epoch 4/10\n",
      "704/704 [==============================] - 5s 7ms/step - loss: 0.1095 - acc: 0.0000e+00 - val_loss: 0.0964 - val_acc: 0.0000e+00\n",
      "Epoch 5/10\n",
      "704/704 [==============================] - 5s 7ms/step - loss: 0.0870 - acc: 0.0000e+00 - val_loss: 0.0771 - val_acc: 0.0000e+00\n",
      "Epoch 6/10\n",
      "704/704 [==============================] - 5s 7ms/step - loss: 0.0701 - acc: 0.0000e+00 - val_loss: 0.0625 - val_acc: 0.0000e+00\n",
      "Epoch 7/10\n",
      "704/704 [==============================] - 5s 7ms/step - loss: 0.0574 - acc: 0.0000e+00 - val_loss: 0.0516 - val_acc: 0.0000e+00\n",
      "Epoch 8/10\n",
      "704/704 [==============================] - 5s 7ms/step - loss: 0.0478 - acc: 0.0000e+00 - val_loss: 0.0435 - val_acc: 0.0000e+00\n",
      "Epoch 9/10\n",
      "704/704 [==============================] - 5s 7ms/step - loss: 0.0407 - acc: 0.0000e+00 - val_loss: 0.0373 - val_acc: 0.0000e+00\n",
      "Epoch 10/10\n",
      "704/704 [==============================] - 5s 7ms/step - loss: 0.0353 - acc: 0.0000e+00 - val_loss: 0.0327 - val_acc: 0.0000e+00\n",
      " 37/313 [==>...........................] - ETA: 0s"
     ]
    },
    {
     "name": "stderr",
     "output_type": "stream",
     "text": [
      "2023-02-24 13:32:07.694344: I tensorflow/core/grappler/optimizers/custom_graph_optimizer_registry.cc:114] Plugin optimizer for device_type GPU is enabled.\n"
     ]
    },
    {
     "name": "stdout",
     "output_type": "stream",
     "text": [
      "313/313 [==============================] - 1s 2ms/step\n",
      "---------------\n",
      "Final score (MSE) : 0.033327712238474444\n"
     ]
    }
   ],
   "source": [
    "lat_dim = 100\n",
    "\n",
    "model_l100 = combined_model(lat_dim)\n",
    "model_l100.compile(optimizer=optimizer, loss='MSE', metrics=['acc'])\n",
    "history = model_l100.fit(X_train,                          \n",
    "                y_train,                          \n",
    "                epochs=n_epochs,                  \n",
    "                batch_size=batch_size,  \n",
    "                validation_split=val_split\n",
    "                )\n",
    "pred = model_l100.predict(X_test)\n",
    "score = metrics.mean_squared_error(pred, y_test)\n",
    "print(f\"---------------\")\n",
    "print(f\"Final score (MSE) : {score}\")"
   ]
  },
  {
   "cell_type": "code",
   "execution_count": 632,
   "metadata": {},
   "outputs": [
    {
     "data": {
      "image/png": "[encoded data removed]",
      "text/plain": [
       "<Figure size 640x480 with 1 Axes>"
      ]
     },
     "metadata": {},
     "output_type": "display_data"
    }
   ],
   "source": [
    "loss = history.history['loss']\n",
    "val_loss = history.history['val_loss']\n",
    "epochs = range(1, len(loss) + 1)\n",
    "\n",
    "# Plotting training and validation loss\n",
    "plt.plot(epochs, loss, 'b', label='Training loss')\n",
    "plt.plot(epochs, val_loss, 'r', label='Validation loss')\n",
    "plt.title('lat_dim = 100: Training and validation loss')\n",
    "plt.xlabel('Epochs')\n",
    "plt.ylabel('Loss')\n",
    "plt.legend()\n",
    "# plt.xscale(value='log')\n",
    "#plt.yscale(value='log')\n",
    "plt.grid()\n",
    "plt.show()"
   ]
  },
  {
   "attachments": {},
   "cell_type": "markdown",
   "metadata": {},
   "source": [
    "Comments:\n",
    "- Lat_dim = 5 had an MSE of 0.0135 while 100 had 0.0333.\n",
    "- Even though both models shows to be close to covnergeing by the 10th epoch, lat_dim=5 proves to actually perform better. This seems counterintuitive to me as none of the models overfit the data. One would then presume that the mode complex model (100) would perform better.\n",
    "- However, the number of epochs seems to slightly too small for both of them to fully converge."
   ]
  },
  {
   "attachments": {},
   "cell_type": "markdown",
   "metadata": {},
   "source": [
    "### P1.3"
   ]
  },
  {
   "attachments": {},
   "cell_type": "markdown",
   "metadata": {},
   "source": [
    "##### lr = 0.1"
   ]
  },
  {
   "cell_type": "code",
   "execution_count": 636,
   "metadata": {},
   "outputs": [
    {
     "name": "stdout",
     "output_type": "stream",
     "text": [
      "Epoch 1/10\n"
     ]
    },
    {
     "name": "stderr",
     "output_type": "stream",
     "text": [
      "2023-02-24 13:38:08.587104: I tensorflow/core/grappler/optimizers/custom_graph_optimizer_registry.cc:114] Plugin optimizer for device_type GPU is enabled.\n"
     ]
    },
    {
     "name": "stdout",
     "output_type": "stream",
     "text": [
      "704/704 [==============================] - ETA: 0s - loss: 0.0197 - acc: 0.0000e+00"
     ]
    },
    {
     "name": "stderr",
     "output_type": "stream",
     "text": [
      "2023-02-24 13:38:13.481645: I tensorflow/core/grappler/optimizers/custom_graph_optimizer_registry.cc:114] Plugin optimizer for device_type GPU is enabled.\n"
     ]
    },
    {
     "name": "stdout",
     "output_type": "stream",
     "text": [
      "704/704 [==============================] - 5s 7ms/step - loss: 0.0197 - acc: 0.0000e+00 - val_loss: 0.0189 - val_acc: 0.0000e+00\n",
      "Epoch 2/10\n",
      "704/704 [==============================] - 5s 7ms/step - loss: 0.0188 - acc: 0.0000e+00 - val_loss: 0.0187 - val_acc: 0.0000e+00\n",
      "Epoch 3/10\n",
      "704/704 [==============================] - 5s 7ms/step - loss: 0.0186 - acc: 0.0000e+00 - val_loss: 0.0189 - val_acc: 0.0000e+00\n",
      "Epoch 4/10\n",
      "704/704 [==============================] - 5s 6ms/step - loss: 0.0185 - acc: 0.0000e+00 - val_loss: 0.0183 - val_acc: 0.0000e+00\n",
      "Epoch 5/10\n",
      "704/704 [==============================] - 4s 6ms/step - loss: 0.0182 - acc: 0.0000e+00 - val_loss: 0.0180 - val_acc: 0.0000e+00\n",
      "Epoch 6/10\n",
      "704/704 [==============================] - 5s 6ms/step - loss: 0.0178 - acc: 0.0000e+00 - val_loss: 0.0174 - val_acc: 0.0000e+00\n",
      "Epoch 7/10\n",
      "704/704 [==============================] - 5s 6ms/step - loss: 0.0167 - acc: 0.0000e+00 - val_loss: 0.0147 - val_acc: 0.0000e+00\n",
      "Epoch 8/10\n",
      "704/704 [==============================] - 5s 7ms/step - loss: 0.0071 - acc: 0.0000e+00 - val_loss: 0.0037 - val_acc: 0.0000e+00\n",
      "Epoch 9/10\n",
      "704/704 [==============================] - 5s 7ms/step - loss: 0.0036 - acc: 0.0000e+00 - val_loss: 0.0034 - val_acc: 0.0000e+00\n",
      "Epoch 10/10\n",
      "704/704 [==============================] - 5s 7ms/step - loss: 0.0034 - acc: 0.0000e+00 - val_loss: 0.0034 - val_acc: 0.0000e+00\n",
      " 67/313 [=====>........................] - ETA: 0s"
     ]
    },
    {
     "name": "stderr",
     "output_type": "stream",
     "text": [
      "2023-02-24 13:38:55.577021: I tensorflow/core/grappler/optimizers/custom_graph_optimizer_registry.cc:114] Plugin optimizer for device_type GPU is enabled.\n"
     ]
    },
    {
     "name": "stdout",
     "output_type": "stream",
     "text": [
      "313/313 [==============================] - 1s 2ms/step\n",
      "---------------\n",
      "Final score (MSE) : 0.0035883394920842677\n"
     ]
    },
    {
     "data": {
      "text/plain": [
       "<keras.callbacks.History at 0x339d2dcf0>"
      ]
     },
     "execution_count": 636,
     "metadata": {},
     "output_type": "execute_result"
    }
   ],
   "source": [
    "lat_dim = 100\n",
    "lr = 0.1\n",
    "\n",
    "def lrfunction(lr):\n",
    "  optimizer = keras.optimizers.SGD(learning_rate=lr)\n",
    "\n",
    "  model_lr01 = combined_model(lat_dim)\n",
    "  model_lr01.compile(optimizer=optimizer, loss='MSE', metrics=['acc'])\n",
    "  history = model_lr01.fit(X_train,                          \n",
    "                  y_train,                          \n",
    "                  epochs=n_epochs,                  \n",
    "                  batch_size=batch_size,  \n",
    "                  validation_split=val_split\n",
    "                  )\n",
    "  pred = model_lr01.predict(X_test)\n",
    "  score = metrics.mean_squared_error(pred, y_test)\n",
    "  print(f\"---------------\")\n",
    "  print(f\"Final score (MSE) : {score}\")\n",
    "  \n",
    "  return history\n",
    "lrfunction(lr)"
   ]
  },
  {
   "cell_type": "code",
   "execution_count": 637,
   "metadata": {},
   "outputs": [
    {
     "data": {
      "image/png": "[encoded data removed]",
      "text/plain": [
       "<Figure size 640x480 with 1 Axes>"
      ]
     },
     "metadata": {},
     "output_type": "display_data"
    }
   ],
   "source": [
    "loss = history.history['loss']\n",
    "val_loss = history.history['val_loss']\n",
    "epochs = range(1, len(loss) + 1)\n",
    "\n",
    "# Plotting training and validation loss\n",
    "plt.plot(epochs, loss, 'b', label='Training loss')\n",
    "plt.plot(epochs, val_loss, 'r', label='Validation loss')\n",
    "plt.title('lr = 0.1: Training and validation loss')\n",
    "plt.xlabel('Epochs')\n",
    "plt.ylabel('Loss')\n",
    "plt.legend()\n",
    "# plt.xscale(value='log')\n",
    "#plt.yscale(value='log')\n",
    "plt.grid()\n",
    "plt.show()"
   ]
  },
  {
   "attachments": {},
   "cell_type": "markdown",
   "metadata": {},
   "source": [
    "##### lr = 0.01"
   ]
  },
  {
   "cell_type": "code",
   "execution_count": 642,
   "metadata": {},
   "outputs": [
    {
     "name": "stdout",
     "output_type": "stream",
     "text": [
      "Epoch 1/10\n"
     ]
    },
    {
     "name": "stderr",
     "output_type": "stream",
     "text": [
      "2023-02-24 13:42:34.657876: I tensorflow/core/grappler/optimizers/custom_graph_optimizer_registry.cc:114] Plugin optimizer for device_type GPU is enabled.\n"
     ]
    },
    {
     "name": "stdout",
     "output_type": "stream",
     "text": [
      "704/704 [==============================] - ETA: 0s - loss: 0.0279 - acc: 0.0000e+00"
     ]
    },
    {
     "name": "stderr",
     "output_type": "stream",
     "text": [
      "2023-02-24 13:42:39.376212: I tensorflow/core/grappler/optimizers/custom_graph_optimizer_registry.cc:114] Plugin optimizer for device_type GPU is enabled.\n"
     ]
    },
    {
     "name": "stdout",
     "output_type": "stream",
     "text": [
      "704/704 [==============================] - 5s 7ms/step - loss: 0.0279 - acc: 0.0000e+00 - val_loss: 0.0189 - val_acc: 0.0000e+00\n",
      "Epoch 2/10\n",
      "704/704 [==============================] - 5s 7ms/step - loss: 0.0189 - acc: 0.0000e+00 - val_loss: 0.0189 - val_acc: 0.0000e+00\n",
      "Epoch 3/10\n",
      "704/704 [==============================] - 4s 6ms/step - loss: 0.0189 - acc: 0.0000e+00 - val_loss: 0.0188 - val_acc: 0.0000e+00\n",
      "Epoch 4/10\n",
      "704/704 [==============================] - 4s 6ms/step - loss: 0.0189 - acc: 0.0000e+00 - val_loss: 0.0188 - val_acc: 0.0000e+00\n",
      "Epoch 5/10\n",
      "704/704 [==============================] - 4s 6ms/step - loss: 0.0189 - acc: 0.0000e+00 - val_loss: 0.0188 - val_acc: 0.0000e+00\n",
      "Epoch 6/10\n",
      "704/704 [==============================] - 5s 6ms/step - loss: 0.0189 - acc: 0.0000e+00 - val_loss: 0.0188 - val_acc: 0.0000e+00\n",
      "Epoch 7/10\n",
      "704/704 [==============================] - 4s 6ms/step - loss: 0.0188 - acc: 0.0000e+00 - val_loss: 0.0188 - val_acc: 0.0000e+00\n",
      "Epoch 8/10\n",
      "704/704 [==============================] - 4s 6ms/step - loss: 0.0188 - acc: 0.0000e+00 - val_loss: 0.0188 - val_acc: 0.0000e+00\n",
      "Epoch 9/10\n",
      "704/704 [==============================] - 4s 6ms/step - loss: 0.0188 - acc: 0.0000e+00 - val_loss: 0.0188 - val_acc: 0.0000e+00\n",
      "Epoch 10/10\n",
      "704/704 [==============================] - 4s 6ms/step - loss: 0.0188 - acc: 0.0000e+00 - val_loss: 0.0187 - val_acc: 0.0000e+00\n",
      " 47/313 [===>..........................] - ETA: 0s"
     ]
    },
    {
     "name": "stderr",
     "output_type": "stream",
     "text": [
      "2023-02-24 13:43:20.420131: I tensorflow/core/grappler/optimizers/custom_graph_optimizer_registry.cc:114] Plugin optimizer for device_type GPU is enabled.\n"
     ]
    },
    {
     "name": "stdout",
     "output_type": "stream",
     "text": [
      "313/313 [==============================] - 1s 2ms/step\n",
      "---------------\n",
      "Final score (MSE) : 0.01895404896767356\n"
     ]
    }
   ],
   "source": [
    "lr=0.01\n",
    "optimizer = keras.optimizers.SGD(learning_rate=lr)\n",
    "\n",
    "model_lr001 = combined_model(lat_dim)\n",
    "model_lr001.compile(optimizer=optimizer, loss='MSE', metrics=['acc'])\n",
    "history = model_lr001.fit(X_train,                          \n",
    "                y_train,                          \n",
    "                epochs=n_epochs,                  \n",
    "                batch_size=batch_size,  \n",
    "                validation_split=val_split\n",
    "                )\n",
    "pred = model_lr001.predict(X_test)\n",
    "score = metrics.mean_squared_error(pred, y_test)\n",
    "print(f\"---------------\")\n",
    "print(f\"Final score (MSE) : {score}\")\n"
   ]
  },
  {
   "cell_type": "code",
   "execution_count": 643,
   "metadata": {},
   "outputs": [
    {
     "data": {
      "image/png": "[encoded data removed]",
      "text/plain": [
       "<Figure size 640x480 with 1 Axes>"
      ]
     },
     "metadata": {},
     "output_type": "display_data"
    }
   ],
   "source": [
    "loss = history.history['loss']\n",
    "val_loss = history.history['val_loss']\n",
    "epochs = range(1, len(loss) + 1)\n",
    "\n",
    "# Plotting training and validation loss\n",
    "plt.plot(epochs, loss, 'b', label='Training loss')\n",
    "plt.plot(epochs, val_loss, 'r', label='Validation loss')\n",
    "plt.title('lr = 0.01: Training and validation loss')\n",
    "plt.xlabel('Epochs')\n",
    "plt.ylabel('Loss')\n",
    "plt.legend()\n",
    "# plt.xscale(value='log')\n",
    "#plt.yscale(value='log')\n",
    "plt.grid()\n",
    "plt.show()"
   ]
  },
  {
   "attachments": {},
   "cell_type": "markdown",
   "metadata": {},
   "source": [
    "##### lr = 0.5"
   ]
  },
  {
   "cell_type": "code",
   "execution_count": 644,
   "metadata": {},
   "outputs": [
    {
     "name": "stdout",
     "output_type": "stream",
     "text": [
      "Epoch 1/10\n"
     ]
    },
    {
     "name": "stderr",
     "output_type": "stream",
     "text": [
      "2023-02-24 13:44:31.388872: I tensorflow/core/grappler/optimizers/custom_graph_optimizer_registry.cc:114] Plugin optimizer for device_type GPU is enabled.\n"
     ]
    },
    {
     "name": "stdout",
     "output_type": "stream",
     "text": [
      "704/704 [==============================] - ETA: 0s - loss: 0.0194 - acc: 0.0000e+00"
     ]
    },
    {
     "name": "stderr",
     "output_type": "stream",
     "text": [
      "2023-02-24 13:44:36.451840: I tensorflow/core/grappler/optimizers/custom_graph_optimizer_registry.cc:114] Plugin optimizer for device_type GPU is enabled.\n"
     ]
    },
    {
     "name": "stdout",
     "output_type": "stream",
     "text": [
      "704/704 [==============================] - 6s 7ms/step - loss: 0.0194 - acc: 0.0000e+00 - val_loss: 0.0222 - val_acc: 0.0000e+00\n",
      "Epoch 2/10\n",
      "704/704 [==============================] - 5s 6ms/step - loss: 0.0181 - acc: 0.0000e+00 - val_loss: 0.0170 - val_acc: 0.0000e+00\n",
      "Epoch 3/10\n",
      "704/704 [==============================] - 5s 7ms/step - loss: 0.0075 - acc: 0.0000e+00 - val_loss: 0.0050 - val_acc: 0.0000e+00\n",
      "Epoch 4/10\n",
      "704/704 [==============================] - 5s 7ms/step - loss: 0.0036 - acc: 0.0000e+00 - val_loss: 0.0041 - val_acc: 0.0000e+00\n",
      "Epoch 5/10\n",
      "704/704 [==============================] - 5s 6ms/step - loss: 0.0035 - acc: 0.0000e+00 - val_loss: 0.0034 - val_acc: 0.0000e+00\n",
      "Epoch 6/10\n",
      "704/704 [==============================] - 5s 6ms/step - loss: 0.0036 - acc: 0.0000e+00 - val_loss: 0.0034 - val_acc: 0.0000e+00\n",
      "Epoch 7/10\n",
      "704/704 [==============================] - 5s 7ms/step - loss: 0.0036 - acc: 0.0000e+00 - val_loss: 0.0034 - val_acc: 0.0000e+00\n",
      "Epoch 8/10\n",
      "704/704 [==============================] - 5s 6ms/step - loss: 0.0035 - acc: 0.0000e+00 - val_loss: 0.0045 - val_acc: 0.0000e+00\n",
      "Epoch 9/10\n",
      "704/704 [==============================] - 5s 6ms/step - loss: 0.0036 - acc: 0.0000e+00 - val_loss: 0.0037 - val_acc: 0.0000e+00\n",
      "Epoch 10/10\n",
      "704/704 [==============================] - 5s 6ms/step - loss: 0.0035 - acc: 0.0000e+00 - val_loss: 0.0054 - val_acc: 0.0000e+00\n",
      " 36/313 [==>...........................] - ETA: 0s"
     ]
    },
    {
     "name": "stderr",
     "output_type": "stream",
     "text": [
      "2023-02-24 13:45:17.855169: I tensorflow/core/grappler/optimizers/custom_graph_optimizer_registry.cc:114] Plugin optimizer for device_type GPU is enabled.\n"
     ]
    },
    {
     "name": "stdout",
     "output_type": "stream",
     "text": [
      "313/313 [==============================] - 1s 2ms/step\n",
      "---------------\n",
      "Final score (MSE) : 0.0054418611314418835\n"
     ]
    }
   ],
   "source": [
    "lr=0.5\n",
    "optimizer = keras.optimizers.SGD(learning_rate=lr)\n",
    "\n",
    "model_lr05 = combined_model(lat_dim)\n",
    "model_lr05.compile(optimizer=optimizer, loss='MSE', metrics=['acc'])\n",
    "history = model_lr05.fit(X_train,                          \n",
    "                y_train,                          \n",
    "                epochs=n_epochs,                  \n",
    "                batch_size=batch_size,  \n",
    "                validation_split=val_split\n",
    "                )\n",
    "pred = model_lr05.predict(X_test)\n",
    "score = metrics.mean_squared_error(pred, y_test)\n",
    "print(f\"---------------\")\n",
    "print(f\"Final score (MSE) : {score}\")"
   ]
  },
  {
   "cell_type": "code",
   "execution_count": 645,
   "metadata": {},
   "outputs": [
    {
     "data": {
      "image/png": "[encoded data removed]",
      "text/plain": [
       "<Figure size 640x480 with 1 Axes>"
      ]
     },
     "metadata": {},
     "output_type": "display_data"
    }
   ],
   "source": [
    "loss = history.history['loss']\n",
    "val_loss = history.history['val_loss']\n",
    "epochs = range(1, len(loss) + 1)\n",
    "\n",
    "# Plotting training and validation loss\n",
    "plt.plot(epochs, loss, 'b', label='Training loss')\n",
    "plt.plot(epochs, val_loss, 'r', label='Validation loss')\n",
    "plt.title('lr = 0.5: Training and validation loss')\n",
    "plt.xlabel('Epochs')\n",
    "plt.ylabel('Loss')\n",
    "plt.legend()\n",
    "# plt.xscale(value='log')\n",
    "#plt.yscale(value='log')\n",
    "plt.grid()\n",
    "plt.show()"
   ]
  },
  {
   "attachments": {},
   "cell_type": "markdown",
   "metadata": {},
   "source": [
    "Comments on results:\n",
    "- **Lr 0.1**: This shows an \"odd\" behavious as the loss is higher all the way until epoch 8, indicating that the model struggles to fit and converge. However it seems to converge in the end, with an MSE of 0.0035 (lowest of them all).\n",
    "- **Lr 0.01**: This model seems to quickly converge at and completes with a respectivly high MSE of 0.0189. This could indicate that the smaller learning rate is not able to keep up and find the complete global optimal. However that seems unlikely, as the initial model in P1.2 did not have such behaviour.\n",
    "- **Lr 0.5**: This is the most \"stochastic\" one, which makes sense as it is the highest learning rate. This makes the optimization algorithm \"jump\" and take large steps, which is not as smooth. You can also see that by the validation loss starting to increase at epoch 10, indicating it is not able to fit the data as well. MSE: 0.0054"
   ]
  },
  {
   "attachments": {},
   "cell_type": "markdown",
   "metadata": {},
   "source": [
    "### P1.4"
   ]
  },
  {
   "attachments": {},
   "cell_type": "markdown",
   "metadata": {},
   "source": [
    "Note: Model is already set to ReLu (as in task description). Therefore, we train existing model over 50 epochs first. No learning rate set, so I let be as in task descriptin (1e-4)."
   ]
  },
  {
   "cell_type": "code",
   "execution_count": 646,
   "metadata": {},
   "outputs": [
    {
     "name": "stdout",
     "output_type": "stream",
     "text": [
      "Epoch 1/50\n"
     ]
    },
    {
     "name": "stderr",
     "output_type": "stream",
     "text": [
      "2023-02-24 13:53:14.748036: I tensorflow/core/grappler/optimizers/custom_graph_optimizer_registry.cc:114] Plugin optimizer for device_type GPU is enabled.\n"
     ]
    },
    {
     "name": "stdout",
     "output_type": "stream",
     "text": [
      "704/704 [==============================] - ETA: 0s - loss: 0.2405 - acc: 0.0000e+00"
     ]
    },
    {
     "name": "stderr",
     "output_type": "stream",
     "text": [
      "2023-02-24 13:53:19.492066: I tensorflow/core/grappler/optimizers/custom_graph_optimizer_registry.cc:114] Plugin optimizer for device_type GPU is enabled.\n"
     ]
    },
    {
     "name": "stdout",
     "output_type": "stream",
     "text": [
      "704/704 [==============================] - 5s 7ms/step - loss: 0.2405 - acc: 0.0000e+00 - val_loss: 0.2088 - val_acc: 0.0000e+00\n",
      "Epoch 2/50\n",
      "704/704 [==============================] - 5s 6ms/step - loss: 0.1849 - acc: 0.0000e+00 - val_loss: 0.1611 - val_acc: 0.0000e+00\n",
      "Epoch 3/50\n",
      "704/704 [==============================] - 5s 7ms/step - loss: 0.1433 - acc: 0.0000e+00 - val_loss: 0.1254 - val_acc: 0.0000e+00\n",
      "Epoch 4/50\n",
      "704/704 [==============================] - 4s 6ms/step - loss: 0.1122 - acc: 0.0000e+00 - val_loss: 0.0987 - val_acc: 0.0000e+00\n",
      "Epoch 5/50\n",
      "704/704 [==============================] - 4s 6ms/step - loss: 0.0889 - acc: 0.0000e+00 - val_loss: 0.0787 - val_acc: 0.0000e+00\n",
      "Epoch 6/50\n",
      "704/704 [==============================] - 4s 6ms/step - loss: 0.0715 - acc: 0.0000e+00 - val_loss: 0.0637 - val_acc: 0.0000e+00\n",
      "Epoch 7/50\n",
      "704/704 [==============================] - 5s 6ms/step - loss: 0.0584 - acc: 0.0000e+00 - val_loss: 0.0525 - val_acc: 0.0000e+00\n",
      "Epoch 8/50\n",
      "704/704 [==============================] - 4s 6ms/step - loss: 0.0485 - acc: 0.0000e+00 - val_loss: 0.0440 - val_acc: 0.0000e+00\n",
      "Epoch 9/50\n",
      "704/704 [==============================] - 4s 6ms/step - loss: 0.0412 - acc: 0.0000e+00 - val_loss: 0.0377 - val_acc: 0.0000e+00\n",
      "Epoch 10/50\n",
      "704/704 [==============================] - 5s 6ms/step - loss: 0.0356 - acc: 0.0000e+00 - val_loss: 0.0330 - val_acc: 0.0000e+00\n",
      "Epoch 11/50\n",
      "704/704 [==============================] - 5s 6ms/step - loss: 0.0314 - acc: 0.0000e+00 - val_loss: 0.0294 - val_acc: 0.0000e+00\n",
      "Epoch 12/50\n",
      "704/704 [==============================] - 5s 7ms/step - loss: 0.0283 - acc: 0.0000e+00 - val_loss: 0.0268 - val_acc: 0.0000e+00\n",
      "Epoch 13/50\n",
      "704/704 [==============================] - 4s 6ms/step - loss: 0.0260 - acc: 0.0000e+00 - val_loss: 0.0248 - val_acc: 0.0000e+00\n",
      "Epoch 14/50\n",
      "704/704 [==============================] - 4s 6ms/step - loss: 0.0242 - acc: 0.0000e+00 - val_loss: 0.0233 - val_acc: 0.0000e+00\n",
      "Epoch 15/50\n",
      "704/704 [==============================] - 5s 6ms/step - loss: 0.0229 - acc: 0.0000e+00 - val_loss: 0.0221 - val_acc: 0.0000e+00\n",
      "Epoch 16/50\n",
      "704/704 [==============================] - 4s 6ms/step - loss: 0.0219 - acc: 0.0000e+00 - val_loss: 0.0213 - val_acc: 0.0000e+00\n",
      "Epoch 17/50\n",
      "704/704 [==============================] - 4s 6ms/step - loss: 0.0211 - acc: 0.0000e+00 - val_loss: 0.0207 - val_acc: 0.0000e+00\n",
      "Epoch 18/50\n",
      "704/704 [==============================] - 4s 6ms/step - loss: 0.0206 - acc: 0.0000e+00 - val_loss: 0.0202 - val_acc: 0.0000e+00\n",
      "Epoch 19/50\n",
      "704/704 [==============================] - 5s 7ms/step - loss: 0.0202 - acc: 0.0000e+00 - val_loss: 0.0198 - val_acc: 0.0000e+00\n",
      "Epoch 20/50\n",
      "704/704 [==============================] - 5s 6ms/step - loss: 0.0198 - acc: 0.0000e+00 - val_loss: 0.0196 - val_acc: 0.0000e+00\n",
      "Epoch 21/50\n",
      "704/704 [==============================] - 5s 6ms/step - loss: 0.0196 - acc: 0.0000e+00 - val_loss: 0.0194 - val_acc: 0.0000e+00\n",
      "Epoch 22/50\n",
      "704/704 [==============================] - 5s 6ms/step - loss: 0.0194 - acc: 0.0000e+00 - val_loss: 0.0192 - val_acc: 0.0000e+00\n",
      "Epoch 23/50\n",
      "704/704 [==============================] - 5s 7ms/step - loss: 0.0193 - acc: 0.0000e+00 - val_loss: 0.0191 - val_acc: 0.0000e+00\n",
      "Epoch 24/50\n",
      "704/704 [==============================] - 5s 7ms/step - loss: 0.0192 - acc: 0.0000e+00 - val_loss: 0.0190 - val_acc: 0.0000e+00\n",
      "Epoch 25/50\n",
      "704/704 [==============================] - 5s 6ms/step - loss: 0.0191 - acc: 0.0000e+00 - val_loss: 0.0190 - val_acc: 0.0000e+00\n",
      "Epoch 26/50\n",
      "704/704 [==============================] - 5s 6ms/step - loss: 0.0190 - acc: 0.0000e+00 - val_loss: 0.0189 - val_acc: 0.0000e+00\n",
      "Epoch 27/50\n",
      "704/704 [==============================] - 5s 6ms/step - loss: 0.0190 - acc: 0.0000e+00 - val_loss: 0.0189 - val_acc: 0.0000e+00\n",
      "Epoch 28/50\n",
      "704/704 [==============================] - 5s 6ms/step - loss: 0.0190 - acc: 0.0000e+00 - val_loss: 0.0189 - val_acc: 0.0000e+00\n",
      "Epoch 29/50\n",
      "704/704 [==============================] - 5s 7ms/step - loss: 0.0189 - acc: 0.0000e+00 - val_loss: 0.0189 - val_acc: 0.0000e+00\n",
      "Epoch 30/50\n",
      "704/704 [==============================] - 5s 7ms/step - loss: 0.0189 - acc: 0.0000e+00 - val_loss: 0.0189 - val_acc: 0.0000e+00\n",
      "Epoch 31/50\n",
      "704/704 [==============================] - 5s 7ms/step - loss: 0.0189 - acc: 0.0000e+00 - val_loss: 0.0188 - val_acc: 0.0000e+00\n",
      "Epoch 32/50\n",
      "704/704 [==============================] - 5s 7ms/step - loss: 0.0189 - acc: 0.0000e+00 - val_loss: 0.0188 - val_acc: 0.0000e+00\n",
      "Epoch 33/50\n",
      "704/704 [==============================] - 5s 7ms/step - loss: 0.0189 - acc: 0.0000e+00 - val_loss: 0.0188 - val_acc: 0.0000e+00\n",
      "Epoch 34/50\n",
      "704/704 [==============================] - 5s 7ms/step - loss: 0.0189 - acc: 0.0000e+00 - val_loss: 0.0188 - val_acc: 0.0000e+00\n",
      "Epoch 35/50\n",
      "704/704 [==============================] - 5s 6ms/step - loss: 0.0189 - acc: 0.0000e+00 - val_loss: 0.0188 - val_acc: 0.0000e+00\n",
      "Epoch 36/50\n",
      "704/704 [==============================] - 5s 6ms/step - loss: 0.0189 - acc: 0.0000e+00 - val_loss: 0.0188 - val_acc: 0.0000e+00\n",
      "Epoch 37/50\n",
      "704/704 [==============================] - 5s 7ms/step - loss: 0.0189 - acc: 0.0000e+00 - val_loss: 0.0188 - val_acc: 0.0000e+00\n",
      "Epoch 38/50\n",
      "704/704 [==============================] - 5s 7ms/step - loss: 0.0189 - acc: 0.0000e+00 - val_loss: 0.0188 - val_acc: 0.0000e+00\n",
      "Epoch 39/50\n",
      "704/704 [==============================] - 5s 7ms/step - loss: 0.0189 - acc: 0.0000e+00 - val_loss: 0.0188 - val_acc: 0.0000e+00\n",
      "Epoch 40/50\n",
      "704/704 [==============================] - 5s 7ms/step - loss: 0.0189 - acc: 0.0000e+00 - val_loss: 0.0188 - val_acc: 0.0000e+00\n",
      "Epoch 41/50\n",
      "704/704 [==============================] - 5s 7ms/step - loss: 0.0189 - acc: 0.0000e+00 - val_loss: 0.0188 - val_acc: 0.0000e+00\n",
      "Epoch 42/50\n",
      "704/704 [==============================] - 5s 7ms/step - loss: 0.0189 - acc: 0.0000e+00 - val_loss: 0.0188 - val_acc: 0.0000e+00\n",
      "Epoch 43/50\n",
      "704/704 [==============================] - 5s 7ms/step - loss: 0.0189 - acc: 0.0000e+00 - val_loss: 0.0188 - val_acc: 0.0000e+00\n",
      "Epoch 44/50\n",
      "704/704 [==============================] - 5s 7ms/step - loss: 0.0189 - acc: 0.0000e+00 - val_loss: 0.0188 - val_acc: 0.0000e+00\n",
      "Epoch 45/50\n",
      "704/704 [==============================] - 5s 7ms/step - loss: 0.0189 - acc: 0.0000e+00 - val_loss: 0.0188 - val_acc: 0.0000e+00\n",
      "Epoch 46/50\n",
      "704/704 [==============================] - 5s 7ms/step - loss: 0.0189 - acc: 0.0000e+00 - val_loss: 0.0188 - val_acc: 0.0000e+00\n",
      "Epoch 47/50\n",
      "704/704 [==============================] - 5s 6ms/step - loss: 0.0189 - acc: 0.0000e+00 - val_loss: 0.0188 - val_acc: 0.0000e+00\n",
      "Epoch 48/50\n",
      "704/704 [==============================] - 5s 7ms/step - loss: 0.0189 - acc: 0.0000e+00 - val_loss: 0.0188 - val_acc: 0.0000e+00\n",
      "Epoch 49/50\n",
      "704/704 [==============================] - 5s 7ms/step - loss: 0.0189 - acc: 0.0000e+00 - val_loss: 0.0188 - val_acc: 0.0000e+00\n",
      "Epoch 50/50\n",
      "704/704 [==============================] - 5s 7ms/step - loss: 0.0189 - acc: 0.0000e+00 - val_loss: 0.0188 - val_acc: 0.0000e+00\n",
      " 33/313 [==>...........................] - ETA: 0s"
     ]
    },
    {
     "name": "stderr",
     "output_type": "stream",
     "text": [
      "2023-02-24 13:57:05.654707: I tensorflow/core/grappler/optimizers/custom_graph_optimizer_registry.cc:114] Plugin optimizer for device_type GPU is enabled.\n"
     ]
    },
    {
     "name": "stdout",
     "output_type": "stream",
     "text": [
      "313/313 [==============================] - 1s 3ms/step\n",
      "---------------\n",
      "Final score (MSE) : 0.019039012969334544\n"
     ]
    }
   ],
   "source": [
    "lat_dim = 100\n",
    "n_epochs = 50\n",
    "optimizer = keras.optimizers.SGD(learning_rate=1e-4)\n",
    "\n",
    "model_relu = combined_model(lat_dim)\n",
    "model_relu.compile(optimizer=optimizer, loss='MSE', metrics=['acc'])\n",
    "history = model_relu.fit(X_train,                          \n",
    "                y_train,                          \n",
    "                epochs=n_epochs,                  \n",
    "                batch_size=batch_size,  \n",
    "                validation_split=val_split\n",
    "                )\n",
    "pred = model_relu.predict(X_test)\n",
    "score = metrics.mean_squared_error(pred, y_test)\n",
    "print(f\"---------------\")\n",
    "print(f\"Final score (MSE) : {score}\")"
   ]
  },
  {
   "cell_type": "code",
   "execution_count": 647,
   "metadata": {},
   "outputs": [
    {
     "data": {
      "image/png": "[encoded data removed]",
      "text/plain": [
       "<Figure size 640x480 with 1 Axes>"
      ]
     },
     "metadata": {},
     "output_type": "display_data"
    }
   ],
   "source": [
    "loss = history.history['loss']\n",
    "val_loss = history.history['val_loss']\n",
    "epochs = range(1, len(loss) + 1)\n",
    "\n",
    "# Plotting training and validation loss\n",
    "plt.plot(epochs, loss, 'b', label='Training loss')\n",
    "plt.plot(epochs, val_loss, 'r', label='Validation loss')\n",
    "plt.title('ReLu, 50 epochs: Training and validation loss')\n",
    "plt.xlabel('Epochs')\n",
    "plt.ylabel('Loss')\n",
    "plt.legend()\n",
    "# plt.xscale(value='log')\n",
    "#plt.yscale(value='log')\n",
    "plt.grid()\n",
    "plt.show()"
   ]
  },
  {
   "cell_type": "code",
   "execution_count": 649,
   "metadata": {},
   "outputs": [
    {
     "name": "stdout",
     "output_type": "stream",
     "text": [
      "Model: \"model_146\"\n",
      "__________________________________________________________________________________________________\n",
      " Layer (type)                   Output Shape         Param #     Connected to                     \n",
      "==================================================================================================\n",
      " input_208 (InputLayer)         [(None, 10)]         0           []                               \n",
      "                                                                                                  \n",
      " O (Sequential)                 (None, 100)          11200       ['input_208[0][0]']              \n",
      "                                                                                                  \n",
      " p (Sequential)                 (None, 1)            301         ['O[0][0]']                      \n",
      "                                                                                                  \n",
      " concatenate_43 (Concatenate)   (None, 101)          0           ['O[0][0]',                      \n",
      "                                                                  'p[0][0]']                      \n",
      "                                                                                                  \n",
      " dense_346 (Dense)              (None, 1)            102         ['concatenate_43[0][0]']         \n",
      "                                                                                                  \n",
      "==================================================================================================\n",
      "Total params: 11,603\n",
      "Trainable params: 11,603\n",
      "Non-trainable params: 0\n",
      "__________________________________________________________________________________________________\n"
     ]
    }
   ],
   "source": [
    "#Recreate with Sigmoid:\n",
    "# Model 1_1\n",
    "def model1_2(lat_dim):\n",
    "  network_Φ = Sequential(name='O')\n",
    "  network_Φ.add(Dense(100, activation='sigmoid', input_shape=n_features))\n",
    "  network_Φ.add(Dense(lat_dim, activation='sigmoid'))\n",
    "\n",
    "  return network_Φ\n",
    "\n",
    "# Model 2_1\n",
    "def model2_2(lat_dim):\n",
    "  network_ρ = Sequential(name='p')\n",
    "  network_ρ.add(Lambda(lambda x: tf.reduce_sum(x, axis=1, keepdims=True), input_shape=(lat_dim,))),\n",
    "  network_ρ.add(Dense(100, activation='sigmoid'))\n",
    "  network_ρ.add(Dense(1))\n",
    "\n",
    "  return network_ρ\n",
    "\n",
    "# Combined model_2\n",
    "def combined_model_2(lat_dim):\n",
    "  combined_model_input = Input(shape=n_features)\n",
    "\n",
    "  model_Φ_output = model1_2(lat_dim)(combined_model_input)\n",
    "  model_ρ_output = model2_2(lat_dim)(model_Φ_output)\n",
    "\n",
    "  concat = Concatenate()([model_Φ_output, model_ρ_output])\n",
    "  combined_model_output = Dense(1)(concat)\n",
    "  combined_model_2 = keras.Model(inputs=combined_model_input, outputs=combined_model_output)\n",
    "  return combined_model_2\n",
    "\n",
    "combined_model2 = combined_model_2(lat_dim)\n",
    "combined_model2.summary()"
   ]
  },
  {
   "cell_type": "code",
   "execution_count": 650,
   "metadata": {},
   "outputs": [
    {
     "name": "stdout",
     "output_type": "stream",
     "text": [
      "Epoch 1/50\n"
     ]
    },
    {
     "name": "stderr",
     "output_type": "stream",
     "text": [
      "2023-02-24 14:02:43.717446: I tensorflow/core/grappler/optimizers/custom_graph_optimizer_registry.cc:114] Plugin optimizer for device_type GPU is enabled.\n"
     ]
    },
    {
     "name": "stdout",
     "output_type": "stream",
     "text": [
      "704/704 [==============================] - ETA: 0s - loss: 0.0351 - acc: 0.0000e+00"
     ]
    },
    {
     "name": "stderr",
     "output_type": "stream",
     "text": [
      "2023-02-24 14:02:48.523242: I tensorflow/core/grappler/optimizers/custom_graph_optimizer_registry.cc:114] Plugin optimizer for device_type GPU is enabled.\n"
     ]
    },
    {
     "name": "stdout",
     "output_type": "stream",
     "text": [
      "704/704 [==============================] - 5s 7ms/step - loss: 0.0351 - acc: 0.0000e+00 - val_loss: 0.0185 - val_acc: 0.0000e+00\n",
      "Epoch 2/50\n",
      "704/704 [==============================] - 5s 6ms/step - loss: 0.0186 - acc: 0.0000e+00 - val_loss: 0.0185 - val_acc: 0.0000e+00\n",
      "Epoch 3/50\n",
      "704/704 [==============================] - 5s 6ms/step - loss: 0.0186 - acc: 0.0000e+00 - val_loss: 0.0185 - val_acc: 0.0000e+00\n",
      "Epoch 4/50\n",
      "704/704 [==============================] - 5s 7ms/step - loss: 0.0186 - acc: 0.0000e+00 - val_loss: 0.0185 - val_acc: 0.0000e+00\n",
      "Epoch 5/50\n",
      "704/704 [==============================] - 4s 6ms/step - loss: 0.0185 - acc: 0.0000e+00 - val_loss: 0.0185 - val_acc: 0.0000e+00\n",
      "Epoch 6/50\n",
      "704/704 [==============================] - 5s 6ms/step - loss: 0.0185 - acc: 0.0000e+00 - val_loss: 0.0185 - val_acc: 0.0000e+00\n",
      "Epoch 7/50\n",
      "704/704 [==============================] - 4s 6ms/step - loss: 0.0185 - acc: 0.0000e+00 - val_loss: 0.0185 - val_acc: 0.0000e+00\n",
      "Epoch 8/50\n",
      "704/704 [==============================] - 4s 6ms/step - loss: 0.0185 - acc: 0.0000e+00 - val_loss: 0.0184 - val_acc: 0.0000e+00\n",
      "Epoch 9/50\n",
      "704/704 [==============================] - 4s 6ms/step - loss: 0.0185 - acc: 0.0000e+00 - val_loss: 0.0184 - val_acc: 0.0000e+00\n",
      "Epoch 10/50\n",
      "704/704 [==============================] - 4s 6ms/step - loss: 0.0185 - acc: 0.0000e+00 - val_loss: 0.0184 - val_acc: 0.0000e+00\n",
      "Epoch 11/50\n",
      "704/704 [==============================] - 4s 6ms/step - loss: 0.0185 - acc: 0.0000e+00 - val_loss: 0.0184 - val_acc: 0.0000e+00\n",
      "Epoch 12/50\n",
      "704/704 [==============================] - 4s 6ms/step - loss: 0.0185 - acc: 0.0000e+00 - val_loss: 0.0184 - val_acc: 0.0000e+00\n",
      "Epoch 13/50\n",
      "704/704 [==============================] - 4s 6ms/step - loss: 0.0185 - acc: 0.0000e+00 - val_loss: 0.0184 - val_acc: 0.0000e+00\n",
      "Epoch 14/50\n",
      "704/704 [==============================] - 4s 6ms/step - loss: 0.0185 - acc: 0.0000e+00 - val_loss: 0.0184 - val_acc: 0.0000e+00\n",
      "Epoch 15/50\n",
      "704/704 [==============================] - 4s 6ms/step - loss: 0.0185 - acc: 0.0000e+00 - val_loss: 0.0184 - val_acc: 0.0000e+00\n",
      "Epoch 16/50\n",
      "704/704 [==============================] - 5s 7ms/step - loss: 0.0185 - acc: 0.0000e+00 - val_loss: 0.0184 - val_acc: 0.0000e+00\n",
      "Epoch 17/50\n",
      "704/704 [==============================] - 4s 6ms/step - loss: 0.0185 - acc: 0.0000e+00 - val_loss: 0.0184 - val_acc: 0.0000e+00\n",
      "Epoch 18/50\n",
      "704/704 [==============================] - 4s 6ms/step - loss: 0.0185 - acc: 0.0000e+00 - val_loss: 0.0184 - val_acc: 0.0000e+00\n",
      "Epoch 19/50\n",
      "704/704 [==============================] - 4s 6ms/step - loss: 0.0184 - acc: 0.0000e+00 - val_loss: 0.0184 - val_acc: 0.0000e+00\n",
      "Epoch 20/50\n",
      "704/704 [==============================] - 4s 6ms/step - loss: 0.0184 - acc: 0.0000e+00 - val_loss: 0.0184 - val_acc: 0.0000e+00\n",
      "Epoch 21/50\n",
      "704/704 [==============================] - 4s 6ms/step - loss: 0.0184 - acc: 0.0000e+00 - val_loss: 0.0184 - val_acc: 0.0000e+00\n",
      "Epoch 22/50\n",
      "704/704 [==============================] - 4s 6ms/step - loss: 0.0184 - acc: 0.0000e+00 - val_loss: 0.0184 - val_acc: 0.0000e+00\n",
      "Epoch 23/50\n",
      "704/704 [==============================] - 5s 7ms/step - loss: 0.0184 - acc: 0.0000e+00 - val_loss: 0.0183 - val_acc: 0.0000e+00\n",
      "Epoch 24/50\n",
      "704/704 [==============================] - 5s 7ms/step - loss: 0.0184 - acc: 0.0000e+00 - val_loss: 0.0183 - val_acc: 0.0000e+00\n",
      "Epoch 25/50\n",
      "704/704 [==============================] - 5s 6ms/step - loss: 0.0184 - acc: 0.0000e+00 - val_loss: 0.0183 - val_acc: 0.0000e+00\n",
      "Epoch 26/50\n",
      "704/704 [==============================] - 5s 7ms/step - loss: 0.0184 - acc: 0.0000e+00 - val_loss: 0.0183 - val_acc: 0.0000e+00\n",
      "Epoch 27/50\n",
      "704/704 [==============================] - 5s 7ms/step - loss: 0.0184 - acc: 0.0000e+00 - val_loss: 0.0183 - val_acc: 0.0000e+00\n",
      "Epoch 28/50\n",
      "704/704 [==============================] - 5s 7ms/step - loss: 0.0184 - acc: 0.0000e+00 - val_loss: 0.0183 - val_acc: 0.0000e+00\n",
      "Epoch 29/50\n",
      "704/704 [==============================] - 5s 7ms/step - loss: 0.0184 - acc: 0.0000e+00 - val_loss: 0.0183 - val_acc: 0.0000e+00\n",
      "Epoch 30/50\n",
      "704/704 [==============================] - 4s 6ms/step - loss: 0.0184 - acc: 0.0000e+00 - val_loss: 0.0183 - val_acc: 0.0000e+00\n",
      "Epoch 31/50\n",
      "704/704 [==============================] - 4s 6ms/step - loss: 0.0184 - acc: 0.0000e+00 - val_loss: 0.0183 - val_acc: 0.0000e+00\n",
      "Epoch 32/50\n",
      "704/704 [==============================] - 5s 6ms/step - loss: 0.0184 - acc: 0.0000e+00 - val_loss: 0.0183 - val_acc: 0.0000e+00\n",
      "Epoch 33/50\n",
      "704/704 [==============================] - 4s 6ms/step - loss: 0.0183 - acc: 0.0000e+00 - val_loss: 0.0183 - val_acc: 0.0000e+00\n",
      "Epoch 34/50\n",
      "704/704 [==============================] - 4s 6ms/step - loss: 0.0183 - acc: 0.0000e+00 - val_loss: 0.0183 - val_acc: 0.0000e+00\n",
      "Epoch 35/50\n",
      "704/704 [==============================] - 5s 6ms/step - loss: 0.0183 - acc: 0.0000e+00 - val_loss: 0.0183 - val_acc: 0.0000e+00\n",
      "Epoch 36/50\n",
      "704/704 [==============================] - 5s 6ms/step - loss: 0.0183 - acc: 0.0000e+00 - val_loss: 0.0183 - val_acc: 0.0000e+00\n",
      "Epoch 37/50\n",
      "704/704 [==============================] - 4s 6ms/step - loss: 0.0183 - acc: 0.0000e+00 - val_loss: 0.0182 - val_acc: 0.0000e+00\n",
      "Epoch 38/50\n",
      "704/704 [==============================] - 4s 6ms/step - loss: 0.0183 - acc: 0.0000e+00 - val_loss: 0.0182 - val_acc: 0.0000e+00\n",
      "Epoch 39/50\n",
      "704/704 [==============================] - 4s 6ms/step - loss: 0.0183 - acc: 0.0000e+00 - val_loss: 0.0182 - val_acc: 0.0000e+00\n",
      "Epoch 40/50\n",
      "704/704 [==============================] - 5s 7ms/step - loss: 0.0183 - acc: 0.0000e+00 - val_loss: 0.0182 - val_acc: 0.0000e+00\n",
      "Epoch 41/50\n",
      "704/704 [==============================] - 4s 6ms/step - loss: 0.0183 - acc: 0.0000e+00 - val_loss: 0.0182 - val_acc: 0.0000e+00\n",
      "Epoch 42/50\n",
      "704/704 [==============================] - 4s 6ms/step - loss: 0.0183 - acc: 0.0000e+00 - val_loss: 0.0182 - val_acc: 0.0000e+00\n",
      "Epoch 43/50\n",
      "704/704 [==============================] - 4s 6ms/step - loss: 0.0183 - acc: 0.0000e+00 - val_loss: 0.0182 - val_acc: 0.0000e+00\n",
      "Epoch 44/50\n",
      "704/704 [==============================] - 5s 6ms/step - loss: 0.0183 - acc: 0.0000e+00 - val_loss: 0.0182 - val_acc: 0.0000e+00\n",
      "Epoch 45/50\n",
      "704/704 [==============================] - 4s 6ms/step - loss: 0.0183 - acc: 0.0000e+00 - val_loss: 0.0182 - val_acc: 0.0000e+00\n",
      "Epoch 46/50\n",
      "704/704 [==============================] - 5s 7ms/step - loss: 0.0183 - acc: 0.0000e+00 - val_loss: 0.0182 - val_acc: 0.0000e+00\n",
      "Epoch 47/50\n",
      "704/704 [==============================] - 5s 6ms/step - loss: 0.0183 - acc: 0.0000e+00 - val_loss: 0.0182 - val_acc: 0.0000e+00\n",
      "Epoch 48/50\n",
      "704/704 [==============================] - 4s 6ms/step - loss: 0.0182 - acc: 0.0000e+00 - val_loss: 0.0182 - val_acc: 0.0000e+00\n",
      "Epoch 49/50\n",
      "704/704 [==============================] - 5s 6ms/step - loss: 0.0182 - acc: 0.0000e+00 - val_loss: 0.0182 - val_acc: 0.0000e+00\n",
      "Epoch 50/50\n",
      "704/704 [==============================] - 4s 6ms/step - loss: 0.0182 - acc: 0.0000e+00 - val_loss: 0.0182 - val_acc: 0.0000e+00\n",
      " 37/313 [==>...........................] - ETA: 0s"
     ]
    },
    {
     "name": "stderr",
     "output_type": "stream",
     "text": [
      "2023-02-24 14:06:29.627266: I tensorflow/core/grappler/optimizers/custom_graph_optimizer_registry.cc:114] Plugin optimizer for device_type GPU is enabled.\n"
     ]
    },
    {
     "name": "stdout",
     "output_type": "stream",
     "text": [
      "313/313 [==============================] - 1s 2ms/step\n",
      "---------------\n",
      "Final score (MSE) : 0.018399018631248067\n"
     ]
    }
   ],
   "source": [
    "model_sigmoid = combined_model_2(lat_dim)\n",
    "model_sigmoid.compile(optimizer=optimizer, loss='MSE', metrics=['acc'])\n",
    "history = model_sigmoid.fit(X_train,                          \n",
    "                y_train,                          \n",
    "                epochs=n_epochs,                  \n",
    "                batch_size=batch_size,  \n",
    "                validation_split=val_split\n",
    "                )\n",
    "pred = model_sigmoid.predict(X_test)\n",
    "score = metrics.mean_squared_error(pred, y_test)\n",
    "print(f\"---------------\")\n",
    "print(f\"Final score (MSE) : {score}\")"
   ]
  },
  {
   "cell_type": "code",
   "execution_count": 652,
   "metadata": {},
   "outputs": [
    {
     "data": {
      "image/png": "[encoded data removed]",
      "text/plain": [
       "<Figure size 640x480 with 1 Axes>"
      ]
     },
     "metadata": {},
     "output_type": "display_data"
    }
   ],
   "source": [
    "loss = history.history['loss']\n",
    "val_loss = history.history['val_loss']\n",
    "epochs = range(1, len(loss) + 1)\n",
    "\n",
    "# Plotting training and validation loss\n",
    "plt.plot(epochs, loss, 'b', label='Training loss')\n",
    "plt.plot(epochs, val_loss, 'r', label='Validation loss')\n",
    "plt.title('Sigmoid, 50 epochs: Training and validation loss')\n",
    "plt.xlabel('Epochs')\n",
    "plt.ylabel('Loss')\n",
    "plt.legend()\n",
    "# plt.xscale(value='log')\n",
    "#plt.yscale(value='log')\n",
    "plt.grid()\n",
    "plt.show()"
   ]
  },
  {
   "attachments": {},
   "cell_type": "markdown",
   "metadata": {},
   "source": [
    "Comments on ReLu vs Sigmoid\n",
    "- This task shows some interesting results and the effects that different activation functions has on the model.\n",
    "- **ReLu**: The relu activation function is commonly used of regression problems where the goal is to have a continuous value. It can be used to ensure that outputs are always positive and it does not have an upper bound, unlike sigmoid. This can be reflected in the relative \"smooth\" training graph my the ReLu implementation. It converges nicely and quite quick, so there seems to not be necessary with all 50 epochs. MSE: 0.01903.\n",
    "- **Sigmoid**: Commonly used in binary classification where you want to have a binary outcome (0/1). This is obvious in the visual representation as well, with the \"non-smoothness\". However, the way that it has absolutely no fluctuations seems suspicious and can possibly be influenced by this being run on my local machine. Anyways, the binary nature of sigmoid is cleary visible. MSE: 0.01839."
   ]
  },
  {
   "attachments": {},
   "cell_type": "markdown",
   "metadata": {},
   "source": [
    "### P1.5"
   ]
  },
  {
   "cell_type": "code",
   "execution_count": 670,
   "metadata": {},
   "outputs": [],
   "source": [
    "lat_dim_range = list(range(1, 11)) + list(range(20, 101, 10)) #range of lat_dim"
   ]
  },
  {
   "cell_type": "code",
   "execution_count": 674,
   "metadata": {},
   "outputs": [
    {
     "name": "stdout",
     "output_type": "stream",
     "text": [
      "-----------------------------\n",
      "\n",
      "Training models for lat_dim = : 1 \n",
      "-----------------------------\n",
      "\n",
      "Epoch 1/2\n"
     ]
    },
    {
     "name": "stderr",
     "output_type": "stream",
     "text": [
      "2023-02-24 15:16:56.660519: I tensorflow/core/grappler/optimizers/custom_graph_optimizer_registry.cc:114] Plugin optimizer for device_type GPU is enabled.\n"
     ]
    },
    {
     "name": "stdout",
     "output_type": "stream",
     "text": [
      "704/704 [==============================] - ETA: 0s - loss: 0.0806 - acc: 0.0000e+00"
     ]
    },
    {
     "name": "stderr",
     "output_type": "stream",
     "text": [
      "2023-02-24 15:17:02.094228: I tensorflow/core/grappler/optimizers/custom_graph_optimizer_registry.cc:114] Plugin optimizer for device_type GPU is enabled.\n"
     ]
    },
    {
     "name": "stdout",
     "output_type": "stream",
     "text": [
      "704/704 [==============================] - 6s 8ms/step - loss: 0.0806 - acc: 0.0000e+00 - val_loss: 0.0477 - val_acc: 0.0000e+00\n",
      "Epoch 2/2\n",
      "704/704 [==============================] - 4s 6ms/step - loss: 0.0350 - acc: 0.0000e+00 - val_loss: 0.0262 - val_acc: 0.0000e+00\n",
      " 50/313 [===>..........................] - ETA: 0s"
     ]
    },
    {
     "name": "stderr",
     "output_type": "stream",
     "text": [
      "2023-02-24 15:17:07.054745: I tensorflow/core/grappler/optimizers/custom_graph_optimizer_registry.cc:114] Plugin optimizer for device_type GPU is enabled.\n"
     ]
    },
    {
     "name": "stdout",
     "output_type": "stream",
     "text": [
      "313/313 [==============================] - 1s 2ms/step\n",
      "--- Score (MSE) : 0.026740473481691\n",
      "Epoch 1/2\n"
     ]
    },
    {
     "name": "stderr",
     "output_type": "stream",
     "text": [
      "2023-02-24 15:17:08.107057: I tensorflow/core/grappler/optimizers/custom_graph_optimizer_registry.cc:114] Plugin optimizer for device_type GPU is enabled.\n"
     ]
    },
    {
     "name": "stdout",
     "output_type": "stream",
     "text": [
      "704/704 [==============================] - ETA: 0s - loss: 0.2853 - acc: 0.0000e+00"
     ]
    },
    {
     "name": "stderr",
     "output_type": "stream",
     "text": [
      "2023-02-24 15:17:12.884081: I tensorflow/core/grappler/optimizers/custom_graph_optimizer_registry.cc:114] Plugin optimizer for device_type GPU is enabled.\n"
     ]
    },
    {
     "name": "stdout",
     "output_type": "stream",
     "text": [
      "704/704 [==============================] - 6s 7ms/step - loss: 0.2853 - acc: 0.0000e+00 - val_loss: 0.2086 - val_acc: 0.0000e+00\n",
      "Epoch 2/2\n",
      "704/704 [==============================] - 4s 6ms/step - loss: 0.1574 - acc: 0.0000e+00 - val_loss: 0.1173 - val_acc: 0.0000e+00\n",
      " 50/313 [===>..........................] - ETA: 0s"
     ]
    },
    {
     "name": "stderr",
     "output_type": "stream",
     "text": [
      "2023-02-24 15:17:17.895912: I tensorflow/core/grappler/optimizers/custom_graph_optimizer_registry.cc:114] Plugin optimizer for device_type GPU is enabled.\n"
     ]
    },
    {
     "name": "stdout",
     "output_type": "stream",
     "text": [
      "313/313 [==============================] - 1s 2ms/step\n",
      "--- Score (MSE) : 0.11648152957364262\n",
      "-----------------------------\n",
      "\n",
      "Training models for lat_dim = : 2 \n",
      "-----------------------------\n",
      "\n",
      "Epoch 1/2\n"
     ]
    },
    {
     "name": "stderr",
     "output_type": "stream",
     "text": [
      "2023-02-24 15:17:18.907291: I tensorflow/core/grappler/optimizers/custom_graph_optimizer_registry.cc:114] Plugin optimizer for device_type GPU is enabled.\n"
     ]
    },
    {
     "name": "stdout",
     "output_type": "stream",
     "text": [
      "704/704 [==============================] - ETA: 0s - loss: 0.0275 - acc: 0.0000e+00"
     ]
    },
    {
     "name": "stderr",
     "output_type": "stream",
     "text": [
      "2023-02-24 15:17:23.847992: I tensorflow/core/grappler/optimizers/custom_graph_optimizer_registry.cc:114] Plugin optimizer for device_type GPU is enabled.\n"
     ]
    },
    {
     "name": "stdout",
     "output_type": "stream",
     "text": [
      "704/704 [==============================] - 6s 7ms/step - loss: 0.0275 - acc: 0.0000e+00 - val_loss: 0.0209 - val_acc: 0.0000e+00\n",
      "Epoch 2/2\n",
      "704/704 [==============================] - 5s 7ms/step - loss: 0.0187 - acc: 0.0000e+00 - val_loss: 0.0179 - val_acc: 0.0000e+00\n",
      " 49/313 [===>..........................] - ETA: 0s"
     ]
    },
    {
     "name": "stderr",
     "output_type": "stream",
     "text": [
      "2023-02-24 15:17:29.046527: I tensorflow/core/grappler/optimizers/custom_graph_optimizer_registry.cc:114] Plugin optimizer for device_type GPU is enabled.\n"
     ]
    },
    {
     "name": "stdout",
     "output_type": "stream",
     "text": [
      "313/313 [==============================] - 1s 2ms/step\n",
      "--- Score (MSE) : 0.01796143416370203\n",
      "Epoch 1/2\n"
     ]
    },
    {
     "name": "stderr",
     "output_type": "stream",
     "text": [
      "2023-02-24 15:17:30.065936: I tensorflow/core/grappler/optimizers/custom_graph_optimizer_registry.cc:114] Plugin optimizer for device_type GPU is enabled.\n"
     ]
    },
    {
     "name": "stdout",
     "output_type": "stream",
     "text": [
      "704/704 [==============================] - ETA: 0s - loss: 0.2703 - acc: 0.0000e+00"
     ]
    },
    {
     "name": "stderr",
     "output_type": "stream",
     "text": [
      "2023-02-24 15:17:34.880329: I tensorflow/core/grappler/optimizers/custom_graph_optimizer_registry.cc:114] Plugin optimizer for device_type GPU is enabled.\n"
     ]
    },
    {
     "name": "stdout",
     "output_type": "stream",
     "text": [
      "704/704 [==============================] - 5s 7ms/step - loss: 0.2703 - acc: 0.0000e+00 - val_loss: 0.0893 - val_acc: 0.0000e+00\n",
      "Epoch 2/2\n",
      "704/704 [==============================] - 4s 6ms/step - loss: 0.0496 - acc: 0.0000e+00 - val_loss: 0.0291 - val_acc: 0.0000e+00\n",
      " 48/313 [===>..........................] - ETA: 0s"
     ]
    },
    {
     "name": "stderr",
     "output_type": "stream",
     "text": [
      "2023-02-24 15:17:39.965220: I tensorflow/core/grappler/optimizers/custom_graph_optimizer_registry.cc:114] Plugin optimizer for device_type GPU is enabled.\n"
     ]
    },
    {
     "name": "stdout",
     "output_type": "stream",
     "text": [
      "313/313 [==============================] - 1s 2ms/step\n",
      "--- Score (MSE) : 0.02945908403525225\n",
      "-----------------------------\n",
      "\n",
      "Training models for lat_dim = : 3 \n",
      "-----------------------------\n",
      "\n",
      "Epoch 1/2\n"
     ]
    },
    {
     "name": "stderr",
     "output_type": "stream",
     "text": [
      "2023-02-24 15:17:40.973255: I tensorflow/core/grappler/optimizers/custom_graph_optimizer_registry.cc:114] Plugin optimizer for device_type GPU is enabled.\n"
     ]
    },
    {
     "name": "stdout",
     "output_type": "stream",
     "text": [
      "704/704 [==============================] - ETA: 0s - loss: 0.3931 - acc: 0.0000e+00"
     ]
    },
    {
     "name": "stderr",
     "output_type": "stream",
     "text": [
      "2023-02-24 15:17:46.045022: I tensorflow/core/grappler/optimizers/custom_graph_optimizer_registry.cc:114] Plugin optimizer for device_type GPU is enabled.\n"
     ]
    },
    {
     "name": "stdout",
     "output_type": "stream",
     "text": [
      "704/704 [==============================] - 6s 8ms/step - loss: 0.3931 - acc: 0.0000e+00 - val_loss: 0.2731 - val_acc: 0.0000e+00\n",
      "Epoch 2/2\n",
      "704/704 [==============================] - 5s 7ms/step - loss: 0.2000 - acc: 0.0000e+00 - val_loss: 0.1401 - val_acc: 0.0000e+00\n",
      " 22/313 [=>............................] - ETA: 0s "
     ]
    },
    {
     "name": "stderr",
     "output_type": "stream",
     "text": [
      "2023-02-24 15:17:51.475873: I tensorflow/core/grappler/optimizers/custom_graph_optimizer_registry.cc:114] Plugin optimizer for device_type GPU is enabled.\n"
     ]
    },
    {
     "name": "stdout",
     "output_type": "stream",
     "text": [
      "313/313 [==============================] - 1s 3ms/step\n",
      "--- Score (MSE) : 0.14156193414903498\n",
      "Epoch 1/2\n"
     ]
    },
    {
     "name": "stderr",
     "output_type": "stream",
     "text": [
      "2023-02-24 15:17:52.636362: I tensorflow/core/grappler/optimizers/custom_graph_optimizer_registry.cc:114] Plugin optimizer for device_type GPU is enabled.\n"
     ]
    },
    {
     "name": "stdout",
     "output_type": "stream",
     "text": [
      "704/704 [==============================] - ETA: 0s - loss: 0.0162 - acc: 0.0000e+00"
     ]
    },
    {
     "name": "stderr",
     "output_type": "stream",
     "text": [
      "2023-02-24 15:17:57.711468: I tensorflow/core/grappler/optimizers/custom_graph_optimizer_registry.cc:114] Plugin optimizer for device_type GPU is enabled.\n"
     ]
    },
    {
     "name": "stdout",
     "output_type": "stream",
     "text": [
      "704/704 [==============================] - 6s 8ms/step - loss: 0.0162 - acc: 0.0000e+00 - val_loss: 0.0159 - val_acc: 0.0000e+00\n",
      "Epoch 2/2\n",
      "704/704 [==============================] - 5s 7ms/step - loss: 0.0157 - acc: 0.0000e+00 - val_loss: 0.0156 - val_acc: 0.0000e+00\n",
      " 45/313 [===>..........................] - ETA: 0s"
     ]
    },
    {
     "name": "stderr",
     "output_type": "stream",
     "text": [
      "2023-02-24 15:18:03.039387: I tensorflow/core/grappler/optimizers/custom_graph_optimizer_registry.cc:114] Plugin optimizer for device_type GPU is enabled.\n"
     ]
    },
    {
     "name": "stdout",
     "output_type": "stream",
     "text": [
      "313/313 [==============================] - 1s 2ms/step\n",
      "--- Score (MSE) : 0.01572531982858676\n",
      "-----------------------------\n",
      "\n",
      "Training models for lat_dim = : 4 \n",
      "-----------------------------\n",
      "\n",
      "Epoch 1/2\n"
     ]
    },
    {
     "name": "stderr",
     "output_type": "stream",
     "text": [
      "2023-02-24 15:18:06.526164: I tensorflow/core/grappler/optimizers/custom_graph_optimizer_registry.cc:114] Plugin optimizer for device_type GPU is enabled.\n"
     ]
    },
    {
     "name": "stdout",
     "output_type": "stream",
     "text": [
      "704/704 [==============================] - ETA: 0s - loss: 0.2113 - acc: 0.0000e+00"
     ]
    },
    {
     "name": "stderr",
     "output_type": "stream",
     "text": [
      "2023-02-24 15:18:12.133844: I tensorflow/core/grappler/optimizers/custom_graph_optimizer_registry.cc:114] Plugin optimizer for device_type GPU is enabled.\n"
     ]
    },
    {
     "name": "stdout",
     "output_type": "stream",
     "text": [
      "704/704 [==============================] - 6s 8ms/step - loss: 0.2113 - acc: 0.0000e+00 - val_loss: 0.1566 - val_acc: 0.0000e+00\n",
      "Epoch 2/2\n",
      "704/704 [==============================] - 5s 7ms/step - loss: 0.1208 - acc: 0.0000e+00 - val_loss: 0.0896 - val_acc: 0.0000e+00\n",
      " 42/313 [===>..........................] - ETA: 0s"
     ]
    },
    {
     "name": "stderr",
     "output_type": "stream",
     "text": [
      "2023-02-24 15:18:17.579431: I tensorflow/core/grappler/optimizers/custom_graph_optimizer_registry.cc:114] Plugin optimizer for device_type GPU is enabled.\n"
     ]
    },
    {
     "name": "stdout",
     "output_type": "stream",
     "text": [
      "313/313 [==============================] - 1s 2ms/step\n",
      "--- Score (MSE) : 0.09070313401338882\n",
      "Epoch 1/2\n"
     ]
    },
    {
     "name": "stderr",
     "output_type": "stream",
     "text": [
      "2023-02-24 15:18:18.626562: I tensorflow/core/grappler/optimizers/custom_graph_optimizer_registry.cc:114] Plugin optimizer for device_type GPU is enabled.\n"
     ]
    },
    {
     "name": "stdout",
     "output_type": "stream",
     "text": [
      "704/704 [==============================] - ETA: 0s - loss: 0.3967 - acc: 0.0000e+00"
     ]
    },
    {
     "name": "stderr",
     "output_type": "stream",
     "text": [
      "2023-02-24 15:18:23.680023: I tensorflow/core/grappler/optimizers/custom_graph_optimizer_registry.cc:114] Plugin optimizer for device_type GPU is enabled.\n"
     ]
    },
    {
     "name": "stdout",
     "output_type": "stream",
     "text": [
      "704/704 [==============================] - 6s 7ms/step - loss: 0.3967 - acc: 0.0000e+00 - val_loss: 0.2817 - val_acc: 0.0000e+00\n",
      "Epoch 2/2\n",
      "704/704 [==============================] - 5s 7ms/step - loss: 0.2077 - acc: 0.0000e+00 - val_loss: 0.1463 - val_acc: 0.0000e+00\n",
      " 43/313 [===>..........................] - ETA: 0s"
     ]
    },
    {
     "name": "stderr",
     "output_type": "stream",
     "text": [
      "2023-02-24 15:18:28.997707: I tensorflow/core/grappler/optimizers/custom_graph_optimizer_registry.cc:114] Plugin optimizer for device_type GPU is enabled.\n"
     ]
    },
    {
     "name": "stdout",
     "output_type": "stream",
     "text": [
      "313/313 [==============================] - 1s 2ms/step\n",
      "--- Score (MSE) : 0.14746675726559563\n",
      "-----------------------------\n",
      "\n",
      "Training models for lat_dim = : 5 \n",
      "-----------------------------\n",
      "\n",
      "Epoch 1/2\n"
     ]
    },
    {
     "name": "stderr",
     "output_type": "stream",
     "text": [
      "2023-02-24 15:18:30.013423: I tensorflow/core/grappler/optimizers/custom_graph_optimizer_registry.cc:114] Plugin optimizer for device_type GPU is enabled.\n"
     ]
    },
    {
     "name": "stdout",
     "output_type": "stream",
     "text": [
      "704/704 [==============================] - ETA: 0s - loss: 0.0207 - acc: 0.0000e+00"
     ]
    },
    {
     "name": "stderr",
     "output_type": "stream",
     "text": [
      "2023-02-24 15:18:34.989552: I tensorflow/core/grappler/optimizers/custom_graph_optimizer_registry.cc:114] Plugin optimizer for device_type GPU is enabled.\n"
     ]
    },
    {
     "name": "stdout",
     "output_type": "stream",
     "text": [
      "704/704 [==============================] - 6s 7ms/step - loss: 0.0207 - acc: 0.0000e+00 - val_loss: 0.0195 - val_acc: 0.0000e+00\n",
      "Epoch 2/2\n",
      "704/704 [==============================] - 5s 7ms/step - loss: 0.0189 - acc: 0.0000e+00 - val_loss: 0.0183 - val_acc: 0.0000e+00\n",
      " 35/313 [==>...........................] - ETA: 0s"
     ]
    },
    {
     "name": "stderr",
     "output_type": "stream",
     "text": [
      "2023-02-24 15:18:40.338240: I tensorflow/core/grappler/optimizers/custom_graph_optimizer_registry.cc:114] Plugin optimizer for device_type GPU is enabled.\n"
     ]
    },
    {
     "name": "stdout",
     "output_type": "stream",
     "text": [
      "313/313 [==============================] - 1s 2ms/step\n",
      "--- Score (MSE) : 0.0185113020562659\n",
      "Epoch 1/2\n"
     ]
    },
    {
     "name": "stderr",
     "output_type": "stream",
     "text": [
      "2023-02-24 15:18:41.382104: I tensorflow/core/grappler/optimizers/custom_graph_optimizer_registry.cc:114] Plugin optimizer for device_type GPU is enabled.\n"
     ]
    },
    {
     "name": "stdout",
     "output_type": "stream",
     "text": [
      "704/704 [==============================] - ETA: 0s - loss: 0.0923 - acc: 0.0000e+00"
     ]
    },
    {
     "name": "stderr",
     "output_type": "stream",
     "text": [
      "2023-02-24 15:18:46.300000: I tensorflow/core/grappler/optimizers/custom_graph_optimizer_registry.cc:114] Plugin optimizer for device_type GPU is enabled.\n"
     ]
    },
    {
     "name": "stdout",
     "output_type": "stream",
     "text": [
      "704/704 [==============================] - 6s 7ms/step - loss: 0.0923 - acc: 0.0000e+00 - val_loss: 0.0730 - val_acc: 0.0000e+00\n",
      "Epoch 2/2\n",
      "704/704 [==============================] - 5s 6ms/step - loss: 0.0609 - acc: 0.0000e+00 - val_loss: 0.0502 - val_acc: 0.0000e+00\n",
      " 44/313 [===>..........................] - ETA: 0s"
     ]
    },
    {
     "name": "stderr",
     "output_type": "stream",
     "text": [
      "2023-02-24 15:18:51.391363: I tensorflow/core/grappler/optimizers/custom_graph_optimizer_registry.cc:114] Plugin optimizer for device_type GPU is enabled.\n"
     ]
    },
    {
     "name": "stdout",
     "output_type": "stream",
     "text": [
      "313/313 [==============================] - 1s 2ms/step\n",
      "--- Score (MSE) : 0.05085443311883128\n",
      "-----------------------------\n",
      "\n",
      "Training models for lat_dim = : 6 \n",
      "-----------------------------\n",
      "\n",
      "Epoch 1/2\n"
     ]
    },
    {
     "name": "stderr",
     "output_type": "stream",
     "text": [
      "2023-02-24 15:18:52.418693: I tensorflow/core/grappler/optimizers/custom_graph_optimizer_registry.cc:114] Plugin optimizer for device_type GPU is enabled.\n"
     ]
    },
    {
     "name": "stdout",
     "output_type": "stream",
     "text": [
      "704/704 [==============================] - ETA: 0s - loss: 0.0738 - acc: 0.0000e+00"
     ]
    },
    {
     "name": "stderr",
     "output_type": "stream",
     "text": [
      "2023-02-24 15:18:57.513065: I tensorflow/core/grappler/optimizers/custom_graph_optimizer_registry.cc:114] Plugin optimizer for device_type GPU is enabled.\n"
     ]
    },
    {
     "name": "stdout",
     "output_type": "stream",
     "text": [
      "704/704 [==============================] - 6s 8ms/step - loss: 0.0738 - acc: 0.0000e+00 - val_loss: 0.0547 - val_acc: 0.0000e+00\n",
      "Epoch 2/2\n",
      "704/704 [==============================] - 5s 6ms/step - loss: 0.0443 - acc: 0.0000e+00 - val_loss: 0.0352 - val_acc: 0.0000e+00\n",
      " 41/313 [==>...........................] - ETA: 0s"
     ]
    },
    {
     "name": "stderr",
     "output_type": "stream",
     "text": [
      "2023-02-24 15:19:02.656785: I tensorflow/core/grappler/optimizers/custom_graph_optimizer_registry.cc:114] Plugin optimizer for device_type GPU is enabled.\n"
     ]
    },
    {
     "name": "stdout",
     "output_type": "stream",
     "text": [
      "313/313 [==============================] - 1s 2ms/step\n",
      "--- Score (MSE) : 0.03604033661770762\n",
      "Epoch 1/2\n"
     ]
    },
    {
     "name": "stderr",
     "output_type": "stream",
     "text": [
      "2023-02-24 15:19:03.694832: I tensorflow/core/grappler/optimizers/custom_graph_optimizer_registry.cc:114] Plugin optimizer for device_type GPU is enabled.\n"
     ]
    },
    {
     "name": "stdout",
     "output_type": "stream",
     "text": [
      "704/704 [==============================] - ETA: 0s - loss: 0.6062 - acc: 0.0000e+00"
     ]
    },
    {
     "name": "stderr",
     "output_type": "stream",
     "text": [
      "2023-02-24 15:19:08.552094: I tensorflow/core/grappler/optimizers/custom_graph_optimizer_registry.cc:114] Plugin optimizer for device_type GPU is enabled.\n"
     ]
    },
    {
     "name": "stdout",
     "output_type": "stream",
     "text": [
      "704/704 [==============================] - 6s 7ms/step - loss: 0.6062 - acc: 0.0000e+00 - val_loss: 0.4498 - val_acc: 0.0000e+00\n",
      "Epoch 2/2\n",
      "704/704 [==============================] - 5s 7ms/step - loss: 0.3428 - acc: 0.0000e+00 - val_loss: 0.2497 - val_acc: 0.0000e+00\n",
      " 43/313 [===>..........................] - ETA: 0s"
     ]
    },
    {
     "name": "stderr",
     "output_type": "stream",
     "text": [
      "2023-02-24 15:19:13.850563: I tensorflow/core/grappler/optimizers/custom_graph_optimizer_registry.cc:114] Plugin optimizer for device_type GPU is enabled.\n"
     ]
    },
    {
     "name": "stdout",
     "output_type": "stream",
     "text": [
      "313/313 [==============================] - 1s 2ms/step\n",
      "--- Score (MSE) : 0.25176380380501096\n",
      "-----------------------------\n",
      "\n",
      "Training models for lat_dim = : 7 \n",
      "-----------------------------\n",
      "\n",
      "Epoch 1/2\n"
     ]
    },
    {
     "name": "stderr",
     "output_type": "stream",
     "text": [
      "2023-02-24 15:19:14.942997: I tensorflow/core/grappler/optimizers/custom_graph_optimizer_registry.cc:114] Plugin optimizer for device_type GPU is enabled.\n"
     ]
    },
    {
     "name": "stdout",
     "output_type": "stream",
     "text": [
      "704/704 [==============================] - ETA: 0s - loss: 0.0899 - acc: 0.0000e+00"
     ]
    },
    {
     "name": "stderr",
     "output_type": "stream",
     "text": [
      "2023-02-24 15:19:19.852023: I tensorflow/core/grappler/optimizers/custom_graph_optimizer_registry.cc:114] Plugin optimizer for device_type GPU is enabled.\n"
     ]
    },
    {
     "name": "stdout",
     "output_type": "stream",
     "text": [
      "704/704 [==============================] - 6s 7ms/step - loss: 0.0899 - acc: 0.0000e+00 - val_loss: 0.0672 - val_acc: 0.0000e+00\n",
      "Epoch 2/2\n",
      "704/704 [==============================] - 5s 6ms/step - loss: 0.0537 - acc: 0.0000e+00 - val_loss: 0.0421 - val_acc: 0.0000e+00\n",
      " 48/313 [===>..........................] - ETA: 0s"
     ]
    },
    {
     "name": "stderr",
     "output_type": "stream",
     "text": [
      "2023-02-24 15:19:24.952293: I tensorflow/core/grappler/optimizers/custom_graph_optimizer_registry.cc:114] Plugin optimizer for device_type GPU is enabled.\n"
     ]
    },
    {
     "name": "stdout",
     "output_type": "stream",
     "text": [
      "313/313 [==============================] - 1s 2ms/step\n",
      "--- Score (MSE) : 0.04280519752160199\n",
      "Epoch 1/2\n"
     ]
    },
    {
     "name": "stderr",
     "output_type": "stream",
     "text": [
      "2023-02-24 15:19:25.965744: I tensorflow/core/grappler/optimizers/custom_graph_optimizer_registry.cc:114] Plugin optimizer for device_type GPU is enabled.\n"
     ]
    },
    {
     "name": "stdout",
     "output_type": "stream",
     "text": [
      "704/704 [==============================] - ETA: 0s - loss: 0.3607 - acc: 0.0000e+00"
     ]
    },
    {
     "name": "stderr",
     "output_type": "stream",
     "text": [
      "2023-02-24 15:19:30.842404: I tensorflow/core/grappler/optimizers/custom_graph_optimizer_registry.cc:114] Plugin optimizer for device_type GPU is enabled.\n"
     ]
    },
    {
     "name": "stdout",
     "output_type": "stream",
     "text": [
      "704/704 [==============================] - 6s 7ms/step - loss: 0.3607 - acc: 0.0000e+00 - val_loss: 0.2538 - val_acc: 0.0000e+00\n",
      "Epoch 2/2\n",
      "704/704 [==============================] - 4s 6ms/step - loss: 0.1884 - acc: 0.0000e+00 - val_loss: 0.1340 - val_acc: 0.0000e+00\n",
      " 41/313 [==>...........................] - ETA: 0s"
     ]
    },
    {
     "name": "stderr",
     "output_type": "stream",
     "text": [
      "2023-02-24 15:19:35.847079: I tensorflow/core/grappler/optimizers/custom_graph_optimizer_registry.cc:114] Plugin optimizer for device_type GPU is enabled.\n"
     ]
    },
    {
     "name": "stdout",
     "output_type": "stream",
     "text": [
      "313/313 [==============================] - 1s 2ms/step\n",
      "--- Score (MSE) : 0.13552925317120604\n",
      "-----------------------------\n",
      "\n",
      "Training models for lat_dim = : 8 \n",
      "-----------------------------\n",
      "\n",
      "Epoch 1/2\n"
     ]
    },
    {
     "name": "stderr",
     "output_type": "stream",
     "text": [
      "2023-02-24 15:19:36.876955: I tensorflow/core/grappler/optimizers/custom_graph_optimizer_registry.cc:114] Plugin optimizer for device_type GPU is enabled.\n"
     ]
    },
    {
     "name": "stdout",
     "output_type": "stream",
     "text": [
      "704/704 [==============================] - ETA: 0s - loss: 0.4563 - acc: 0.0000e+00"
     ]
    },
    {
     "name": "stderr",
     "output_type": "stream",
     "text": [
      "2023-02-24 15:19:42.028848: I tensorflow/core/grappler/optimizers/custom_graph_optimizer_registry.cc:114] Plugin optimizer for device_type GPU is enabled.\n"
     ]
    },
    {
     "name": "stdout",
     "output_type": "stream",
     "text": [
      "704/704 [==============================] - 6s 8ms/step - loss: 0.4563 - acc: 0.0000e+00 - val_loss: 0.2920 - val_acc: 0.0000e+00\n",
      "Epoch 2/2\n",
      "704/704 [==============================] - 5s 7ms/step - loss: 0.1996 - acc: 0.0000e+00 - val_loss: 0.1279 - val_acc: 0.0000e+00\n",
      " 38/313 [==>...........................] - ETA: 0s"
     ]
    },
    {
     "name": "stderr",
     "output_type": "stream",
     "text": [
      "2023-02-24 15:19:47.311854: I tensorflow/core/grappler/optimizers/custom_graph_optimizer_registry.cc:114] Plugin optimizer for device_type GPU is enabled.\n"
     ]
    },
    {
     "name": "stdout",
     "output_type": "stream",
     "text": [
      "313/313 [==============================] - 1s 2ms/step\n",
      "--- Score (MSE) : 0.12914741137810412\n",
      "Epoch 1/2\n"
     ]
    },
    {
     "name": "stderr",
     "output_type": "stream",
     "text": [
      "2023-02-24 15:19:48.386581: I tensorflow/core/grappler/optimizers/custom_graph_optimizer_registry.cc:114] Plugin optimizer for device_type GPU is enabled.\n"
     ]
    },
    {
     "name": "stdout",
     "output_type": "stream",
     "text": [
      "704/704 [==============================] - ETA: 0s - loss: 0.0514 - acc: 0.0000e+00"
     ]
    },
    {
     "name": "stderr",
     "output_type": "stream",
     "text": [
      "2023-02-24 15:19:53.220175: I tensorflow/core/grappler/optimizers/custom_graph_optimizer_registry.cc:114] Plugin optimizer for device_type GPU is enabled.\n"
     ]
    },
    {
     "name": "stdout",
     "output_type": "stream",
     "text": [
      "704/704 [==============================] - 6s 7ms/step - loss: 0.0514 - acc: 0.0000e+00 - val_loss: 0.0449 - val_acc: 0.0000e+00\n",
      "Epoch 2/2\n",
      "704/704 [==============================] - 5s 6ms/step - loss: 0.0407 - acc: 0.0000e+00 - val_loss: 0.0363 - val_acc: 0.0000e+00\n",
      " 43/313 [===>..........................] - ETA: 0s"
     ]
    },
    {
     "name": "stderr",
     "output_type": "stream",
     "text": [
      "2023-02-24 15:19:58.365164: I tensorflow/core/grappler/optimizers/custom_graph_optimizer_registry.cc:114] Plugin optimizer for device_type GPU is enabled.\n"
     ]
    },
    {
     "name": "stdout",
     "output_type": "stream",
     "text": [
      "313/313 [==============================] - 1s 2ms/step\n",
      "--- Score (MSE) : 0.03690560260813842\n",
      "-----------------------------\n",
      "\n",
      "Training models for lat_dim = : 9 \n",
      "-----------------------------\n",
      "\n",
      "Epoch 1/2\n"
     ]
    },
    {
     "name": "stderr",
     "output_type": "stream",
     "text": [
      "2023-02-24 15:19:59.492988: I tensorflow/core/grappler/optimizers/custom_graph_optimizer_registry.cc:114] Plugin optimizer for device_type GPU is enabled.\n"
     ]
    },
    {
     "name": "stdout",
     "output_type": "stream",
     "text": [
      "704/704 [==============================] - ETA: 0s - loss: 0.2108 - acc: 0.0000e+00"
     ]
    },
    {
     "name": "stderr",
     "output_type": "stream",
     "text": [
      "2023-02-24 15:20:04.496615: I tensorflow/core/grappler/optimizers/custom_graph_optimizer_registry.cc:114] Plugin optimizer for device_type GPU is enabled.\n"
     ]
    },
    {
     "name": "stdout",
     "output_type": "stream",
     "text": [
      "704/704 [==============================] - 6s 7ms/step - loss: 0.2108 - acc: 0.0000e+00 - val_loss: 0.1684 - val_acc: 0.0000e+00\n",
      "Epoch 2/2\n",
      "704/704 [==============================] - 4s 6ms/step - loss: 0.1392 - acc: 0.0000e+00 - val_loss: 0.1126 - val_acc: 0.0000e+00\n",
      " 42/313 [===>..........................] - ETA: 0s"
     ]
    },
    {
     "name": "stderr",
     "output_type": "stream",
     "text": [
      "2023-02-24 15:20:09.558778: I tensorflow/core/grappler/optimizers/custom_graph_optimizer_registry.cc:114] Plugin optimizer for device_type GPU is enabled.\n"
     ]
    },
    {
     "name": "stdout",
     "output_type": "stream",
     "text": [
      "313/313 [==============================] - 1s 2ms/step\n",
      "--- Score (MSE) : 0.11386229297412509\n",
      "Epoch 1/2\n"
     ]
    },
    {
     "name": "stderr",
     "output_type": "stream",
     "text": [
      "2023-02-24 15:20:10.662645: I tensorflow/core/grappler/optimizers/custom_graph_optimizer_registry.cc:114] Plugin optimizer for device_type GPU is enabled.\n"
     ]
    },
    {
     "name": "stdout",
     "output_type": "stream",
     "text": [
      "704/704 [==============================] - ETA: 0s - loss: 0.2624 - acc: 0.0000e+00"
     ]
    },
    {
     "name": "stderr",
     "output_type": "stream",
     "text": [
      "2023-02-24 15:20:15.895787: I tensorflow/core/grappler/optimizers/custom_graph_optimizer_registry.cc:114] Plugin optimizer for device_type GPU is enabled.\n"
     ]
    },
    {
     "name": "stdout",
     "output_type": "stream",
     "text": [
      "704/704 [==============================] - 6s 8ms/step - loss: 0.2624 - acc: 0.0000e+00 - val_loss: 0.2207 - val_acc: 0.0000e+00\n",
      "Epoch 2/2\n",
      "704/704 [==============================] - 5s 6ms/step - loss: 0.1895 - acc: 0.0000e+00 - val_loss: 0.1600 - val_acc: 0.0000e+00\n",
      " 45/313 [===>..........................] - ETA: 0s"
     ]
    },
    {
     "name": "stderr",
     "output_type": "stream",
     "text": [
      "2023-02-24 15:20:21.157614: I tensorflow/core/grappler/optimizers/custom_graph_optimizer_registry.cc:114] Plugin optimizer for device_type GPU is enabled.\n"
     ]
    },
    {
     "name": "stdout",
     "output_type": "stream",
     "text": [
      "313/313 [==============================] - 1s 2ms/step\n",
      "--- Score (MSE) : 0.1613422579758565\n",
      "-----------------------------\n",
      "\n",
      "Training models for lat_dim = : 10 \n",
      "-----------------------------\n",
      "\n",
      "Epoch 1/2\n"
     ]
    },
    {
     "name": "stderr",
     "output_type": "stream",
     "text": [
      "2023-02-24 15:20:22.306435: I tensorflow/core/grappler/optimizers/custom_graph_optimizer_registry.cc:114] Plugin optimizer for device_type GPU is enabled.\n"
     ]
    },
    {
     "name": "stdout",
     "output_type": "stream",
     "text": [
      "704/704 [==============================] - ETA: 0s - loss: 0.1718 - acc: 0.0000e+00"
     ]
    },
    {
     "name": "stderr",
     "output_type": "stream",
     "text": [
      "2023-02-24 15:20:27.950006: I tensorflow/core/grappler/optimizers/custom_graph_optimizer_registry.cc:114] Plugin optimizer for device_type GPU is enabled.\n"
     ]
    },
    {
     "name": "stdout",
     "output_type": "stream",
     "text": [
      "704/704 [==============================] - 6s 8ms/step - loss: 0.1718 - acc: 0.0000e+00 - val_loss: 0.1449 - val_acc: 0.0000e+00\n",
      "Epoch 2/2\n",
      "704/704 [==============================] - 5s 7ms/step - loss: 0.1254 - acc: 0.0000e+00 - val_loss: 0.1067 - val_acc: 0.0000e+00\n",
      " 43/313 [===>..........................] - ETA: 0s"
     ]
    },
    {
     "name": "stderr",
     "output_type": "stream",
     "text": [
      "2023-02-24 15:20:33.410513: I tensorflow/core/grappler/optimizers/custom_graph_optimizer_registry.cc:114] Plugin optimizer for device_type GPU is enabled.\n"
     ]
    },
    {
     "name": "stdout",
     "output_type": "stream",
     "text": [
      "313/313 [==============================] - 1s 3ms/step\n",
      "--- Score (MSE) : 0.10783183539759421\n",
      "Epoch 1/2\n"
     ]
    },
    {
     "name": "stderr",
     "output_type": "stream",
     "text": [
      "2023-02-24 15:20:34.671116: I tensorflow/core/grappler/optimizers/custom_graph_optimizer_registry.cc:114] Plugin optimizer for device_type GPU is enabled.\n"
     ]
    },
    {
     "name": "stdout",
     "output_type": "stream",
     "text": [
      "704/704 [==============================] - ETA: 0s - loss: 0.2445 - acc: 0.0000e+00"
     ]
    },
    {
     "name": "stderr",
     "output_type": "stream",
     "text": [
      "2023-02-24 15:20:39.685403: I tensorflow/core/grappler/optimizers/custom_graph_optimizer_registry.cc:114] Plugin optimizer for device_type GPU is enabled.\n"
     ]
    },
    {
     "name": "stdout",
     "output_type": "stream",
     "text": [
      "704/704 [==============================] - 6s 7ms/step - loss: 0.2445 - acc: 0.0000e+00 - val_loss: 0.1861 - val_acc: 0.0000e+00\n",
      "Epoch 2/2\n",
      "704/704 [==============================] - 5s 7ms/step - loss: 0.1484 - acc: 0.0000e+00 - val_loss: 0.1154 - val_acc: 0.0000e+00\n",
      " 22/313 [=>............................] - ETA: 1s"
     ]
    },
    {
     "name": "stderr",
     "output_type": "stream",
     "text": [
      "2023-02-24 15:20:45.142957: I tensorflow/core/grappler/optimizers/custom_graph_optimizer_registry.cc:114] Plugin optimizer for device_type GPU is enabled.\n"
     ]
    },
    {
     "name": "stdout",
     "output_type": "stream",
     "text": [
      "313/313 [==============================] - 1s 3ms/step\n",
      "--- Score (MSE) : 0.11669803050735163\n",
      "-----------------------------\n",
      "\n",
      "Training models for lat_dim = : 20 \n",
      "-----------------------------\n",
      "\n",
      "Epoch 1/2\n"
     ]
    },
    {
     "name": "stderr",
     "output_type": "stream",
     "text": [
      "2023-02-24 15:20:46.410478: I tensorflow/core/grappler/optimizers/custom_graph_optimizer_registry.cc:114] Plugin optimizer for device_type GPU is enabled.\n"
     ]
    },
    {
     "name": "stdout",
     "output_type": "stream",
     "text": [
      "704/704 [==============================] - ETA: 0s - loss: 0.3026 - acc: 0.0000e+00"
     ]
    },
    {
     "name": "stderr",
     "output_type": "stream",
     "text": [
      "2023-02-24 15:20:51.311062: I tensorflow/core/grappler/optimizers/custom_graph_optimizer_registry.cc:114] Plugin optimizer for device_type GPU is enabled.\n"
     ]
    },
    {
     "name": "stdout",
     "output_type": "stream",
     "text": [
      "704/704 [==============================] - 6s 7ms/step - loss: 0.3026 - acc: 0.0000e+00 - val_loss: 0.2514 - val_acc: 0.0000e+00\n",
      "Epoch 2/2\n",
      "704/704 [==============================] - 5s 6ms/step - loss: 0.2127 - acc: 0.0000e+00 - val_loss: 0.1758 - val_acc: 0.0000e+00\n",
      " 46/313 [===>..........................] - ETA: 0s"
     ]
    },
    {
     "name": "stderr",
     "output_type": "stream",
     "text": [
      "2023-02-24 15:20:56.431114: I tensorflow/core/grappler/optimizers/custom_graph_optimizer_registry.cc:114] Plugin optimizer for device_type GPU is enabled.\n"
     ]
    },
    {
     "name": "stdout",
     "output_type": "stream",
     "text": [
      "313/313 [==============================] - 1s 2ms/step\n",
      "--- Score (MSE) : 0.17743457744419505\n",
      "Epoch 1/2\n"
     ]
    },
    {
     "name": "stderr",
     "output_type": "stream",
     "text": [
      "2023-02-24 15:20:57.470417: I tensorflow/core/grappler/optimizers/custom_graph_optimizer_registry.cc:114] Plugin optimizer for device_type GPU is enabled.\n"
     ]
    },
    {
     "name": "stdout",
     "output_type": "stream",
     "text": [
      "704/704 [==============================] - ETA: 0s - loss: 0.1751 - acc: 0.0000e+00"
     ]
    },
    {
     "name": "stderr",
     "output_type": "stream",
     "text": [
      "2023-02-24 15:21:02.626541: I tensorflow/core/grappler/optimizers/custom_graph_optimizer_registry.cc:114] Plugin optimizer for device_type GPU is enabled.\n"
     ]
    },
    {
     "name": "stdout",
     "output_type": "stream",
     "text": [
      "704/704 [==============================] - 6s 8ms/step - loss: 0.1751 - acc: 0.0000e+00 - val_loss: 0.1487 - val_acc: 0.0000e+00\n",
      "Epoch 2/2\n",
      "704/704 [==============================] - 5s 6ms/step - loss: 0.1291 - acc: 0.0000e+00 - val_loss: 0.1099 - val_acc: 0.0000e+00\n",
      " 41/313 [==>...........................] - ETA: 0s"
     ]
    },
    {
     "name": "stderr",
     "output_type": "stream",
     "text": [
      "2023-02-24 15:21:07.774653: I tensorflow/core/grappler/optimizers/custom_graph_optimizer_registry.cc:114] Plugin optimizer for device_type GPU is enabled.\n"
     ]
    },
    {
     "name": "stdout",
     "output_type": "stream",
     "text": [
      "313/313 [==============================] - 1s 2ms/step\n",
      "--- Score (MSE) : 0.11116026874496074\n",
      "-----------------------------\n",
      "\n",
      "Training models for lat_dim = : 30 \n",
      "-----------------------------\n",
      "\n",
      "Epoch 1/2\n"
     ]
    },
    {
     "name": "stderr",
     "output_type": "stream",
     "text": [
      "2023-02-24 15:21:08.831972: I tensorflow/core/grappler/optimizers/custom_graph_optimizer_registry.cc:114] Plugin optimizer for device_type GPU is enabled.\n"
     ]
    },
    {
     "name": "stdout",
     "output_type": "stream",
     "text": [
      "704/704 [==============================] - ETA: 0s - loss: 0.1829 - acc: 0.0000e+00"
     ]
    },
    {
     "name": "stderr",
     "output_type": "stream",
     "text": [
      "2023-02-24 15:21:14.200414: I tensorflow/core/grappler/optimizers/custom_graph_optimizer_registry.cc:114] Plugin optimizer for device_type GPU is enabled.\n"
     ]
    },
    {
     "name": "stdout",
     "output_type": "stream",
     "text": [
      "704/704 [==============================] - 6s 8ms/step - loss: 0.1829 - acc: 0.0000e+00 - val_loss: 0.1528 - val_acc: 0.0000e+00\n",
      "Epoch 2/2\n",
      "704/704 [==============================] - 4s 6ms/step - loss: 0.1307 - acc: 0.0000e+00 - val_loss: 0.1094 - val_acc: 0.0000e+00\n",
      " 46/313 [===>..........................] - ETA: 0s"
     ]
    },
    {
     "name": "stderr",
     "output_type": "stream",
     "text": [
      "2023-02-24 15:21:19.295321: I tensorflow/core/grappler/optimizers/custom_graph_optimizer_registry.cc:114] Plugin optimizer for device_type GPU is enabled.\n"
     ]
    },
    {
     "name": "stdout",
     "output_type": "stream",
     "text": [
      "313/313 [==============================] - 1s 3ms/step\n",
      "--- Score (MSE) : 0.1106644622602022\n",
      "Epoch 1/2\n"
     ]
    },
    {
     "name": "stderr",
     "output_type": "stream",
     "text": [
      "2023-02-24 15:21:20.437447: I tensorflow/core/grappler/optimizers/custom_graph_optimizer_registry.cc:114] Plugin optimizer for device_type GPU is enabled.\n"
     ]
    },
    {
     "name": "stdout",
     "output_type": "stream",
     "text": [
      "704/704 [==============================] - ETA: 0s - loss: 0.2272 - acc: 0.0000e+00"
     ]
    },
    {
     "name": "stderr",
     "output_type": "stream",
     "text": [
      "2023-02-24 15:21:25.421441: I tensorflow/core/grappler/optimizers/custom_graph_optimizer_registry.cc:114] Plugin optimizer for device_type GPU is enabled.\n"
     ]
    },
    {
     "name": "stdout",
     "output_type": "stream",
     "text": [
      "704/704 [==============================] - 6s 7ms/step - loss: 0.2272 - acc: 0.0000e+00 - val_loss: 0.1967 - val_acc: 0.0000e+00\n",
      "Epoch 2/2\n",
      "704/704 [==============================] - 4s 6ms/step - loss: 0.1739 - acc: 0.0000e+00 - val_loss: 0.1511 - val_acc: 0.0000e+00\n",
      " 50/313 [===>..........................] - ETA: 0s"
     ]
    },
    {
     "name": "stderr",
     "output_type": "stream",
     "text": [
      "2023-02-24 15:21:30.488573: I tensorflow/core/grappler/optimizers/custom_graph_optimizer_registry.cc:114] Plugin optimizer for device_type GPU is enabled.\n"
     ]
    },
    {
     "name": "stdout",
     "output_type": "stream",
     "text": [
      "313/313 [==============================] - 1s 2ms/step\n",
      "--- Score (MSE) : 0.15268637257489956\n",
      "-----------------------------\n",
      "\n",
      "Training models for lat_dim = : 40 \n",
      "-----------------------------\n",
      "\n",
      "Epoch 1/2\n"
     ]
    },
    {
     "name": "stderr",
     "output_type": "stream",
     "text": [
      "2023-02-24 15:21:31.547721: I tensorflow/core/grappler/optimizers/custom_graph_optimizer_registry.cc:114] Plugin optimizer for device_type GPU is enabled.\n"
     ]
    },
    {
     "name": "stdout",
     "output_type": "stream",
     "text": [
      "704/704 [==============================] - ETA: 0s - loss: 0.2696 - acc: 0.0000e+00"
     ]
    },
    {
     "name": "stderr",
     "output_type": "stream",
     "text": [
      "2023-02-24 15:21:36.283691: I tensorflow/core/grappler/optimizers/custom_graph_optimizer_registry.cc:114] Plugin optimizer for device_type GPU is enabled.\n"
     ]
    },
    {
     "name": "stdout",
     "output_type": "stream",
     "text": [
      "704/704 [==============================] - 5s 7ms/step - loss: 0.2696 - acc: 0.0000e+00 - val_loss: 0.2279 - val_acc: 0.0000e+00\n",
      "Epoch 2/2\n",
      "704/704 [==============================] - 4s 6ms/step - loss: 0.1968 - acc: 0.0000e+00 - val_loss: 0.1670 - val_acc: 0.0000e+00\n",
      " 40/313 [==>...........................] - ETA: 0s"
     ]
    },
    {
     "name": "stderr",
     "output_type": "stream",
     "text": [
      "2023-02-24 15:21:41.294380: I tensorflow/core/grappler/optimizers/custom_graph_optimizer_registry.cc:114] Plugin optimizer for device_type GPU is enabled.\n"
     ]
    },
    {
     "name": "stdout",
     "output_type": "stream",
     "text": [
      "313/313 [==============================] - 1s 2ms/step\n",
      "--- Score (MSE) : 0.16855737459903777\n",
      "Epoch 1/2\n"
     ]
    },
    {
     "name": "stderr",
     "output_type": "stream",
     "text": [
      "2023-02-24 15:21:42.335498: I tensorflow/core/grappler/optimizers/custom_graph_optimizer_registry.cc:114] Plugin optimizer for device_type GPU is enabled.\n"
     ]
    },
    {
     "name": "stdout",
     "output_type": "stream",
     "text": [
      "704/704 [==============================] - ETA: 0s - loss: 0.2086 - acc: 0.0000e+00"
     ]
    },
    {
     "name": "stderr",
     "output_type": "stream",
     "text": [
      "2023-02-24 15:21:47.445087: I tensorflow/core/grappler/optimizers/custom_graph_optimizer_registry.cc:114] Plugin optimizer for device_type GPU is enabled.\n"
     ]
    },
    {
     "name": "stdout",
     "output_type": "stream",
     "text": [
      "704/704 [==============================] - 6s 8ms/step - loss: 0.2086 - acc: 0.0000e+00 - val_loss: 0.1712 - val_acc: 0.0000e+00\n",
      "Epoch 2/2\n",
      "704/704 [==============================] - 5s 6ms/step - loss: 0.1443 - acc: 0.0000e+00 - val_loss: 0.1188 - val_acc: 0.0000e+00\n",
      " 41/313 [==>...........................] - ETA: 0s"
     ]
    },
    {
     "name": "stderr",
     "output_type": "stream",
     "text": [
      "2023-02-24 15:21:52.721415: I tensorflow/core/grappler/optimizers/custom_graph_optimizer_registry.cc:114] Plugin optimizer for device_type GPU is enabled.\n"
     ]
    },
    {
     "name": "stdout",
     "output_type": "stream",
     "text": [
      "313/313 [==============================] - 1s 2ms/step\n",
      "--- Score (MSE) : 0.12012974639323885\n",
      "-----------------------------\n",
      "\n",
      "Training models for lat_dim = : 50 \n",
      "-----------------------------\n",
      "\n",
      "Epoch 1/2\n"
     ]
    },
    {
     "name": "stderr",
     "output_type": "stream",
     "text": [
      "2023-02-24 15:21:53.756918: I tensorflow/core/grappler/optimizers/custom_graph_optimizer_registry.cc:114] Plugin optimizer for device_type GPU is enabled.\n"
     ]
    },
    {
     "name": "stdout",
     "output_type": "stream",
     "text": [
      "704/704 [==============================] - ETA: 0s - loss: 0.1972 - acc: 0.0000e+00"
     ]
    },
    {
     "name": "stderr",
     "output_type": "stream",
     "text": [
      "2023-02-24 15:21:58.730412: I tensorflow/core/grappler/optimizers/custom_graph_optimizer_registry.cc:114] Plugin optimizer for device_type GPU is enabled.\n"
     ]
    },
    {
     "name": "stdout",
     "output_type": "stream",
     "text": [
      "704/704 [==============================] - 6s 7ms/step - loss: 0.1972 - acc: 0.0000e+00 - val_loss: 0.1707 - val_acc: 0.0000e+00\n",
      "Epoch 2/2\n",
      "704/704 [==============================] - 5s 6ms/step - loss: 0.1508 - acc: 0.0000e+00 - val_loss: 0.1310 - val_acc: 0.0000e+00\n",
      " 37/313 [==>...........................] - ETA: 0s"
     ]
    },
    {
     "name": "stderr",
     "output_type": "stream",
     "text": [
      "2023-02-24 15:22:03.813254: I tensorflow/core/grappler/optimizers/custom_graph_optimizer_registry.cc:114] Plugin optimizer for device_type GPU is enabled.\n"
     ]
    },
    {
     "name": "stdout",
     "output_type": "stream",
     "text": [
      "313/313 [==============================] - 1s 3ms/step\n",
      "--- Score (MSE) : 0.132376651275861\n",
      "Epoch 1/2\n"
     ]
    },
    {
     "name": "stderr",
     "output_type": "stream",
     "text": [
      "2023-02-24 15:22:05.021187: I tensorflow/core/grappler/optimizers/custom_graph_optimizer_registry.cc:114] Plugin optimizer for device_type GPU is enabled.\n"
     ]
    },
    {
     "name": "stdout",
     "output_type": "stream",
     "text": [
      "704/704 [==============================] - ETA: 0s - loss: 0.2093 - acc: 0.0000e+00"
     ]
    },
    {
     "name": "stderr",
     "output_type": "stream",
     "text": [
      "2023-02-24 15:22:09.906912: I tensorflow/core/grappler/optimizers/custom_graph_optimizer_registry.cc:114] Plugin optimizer for device_type GPU is enabled.\n"
     ]
    },
    {
     "name": "stdout",
     "output_type": "stream",
     "text": [
      "704/704 [==============================] - 6s 7ms/step - loss: 0.2093 - acc: 0.0000e+00 - val_loss: 0.1817 - val_acc: 0.0000e+00\n",
      "Epoch 2/2\n",
      "704/704 [==============================] - 4s 6ms/step - loss: 0.1610 - acc: 0.0000e+00 - val_loss: 0.1403 - val_acc: 0.0000e+00\n",
      " 40/313 [==>...........................] - ETA: 0s"
     ]
    },
    {
     "name": "stderr",
     "output_type": "stream",
     "text": [
      "2023-02-24 15:22:14.850144: I tensorflow/core/grappler/optimizers/custom_graph_optimizer_registry.cc:114] Plugin optimizer for device_type GPU is enabled.\n"
     ]
    },
    {
     "name": "stdout",
     "output_type": "stream",
     "text": [
      "313/313 [==============================] - 1s 2ms/step\n",
      "--- Score (MSE) : 0.1417294792313057\n",
      "-----------------------------\n",
      "\n",
      "Training models for lat_dim = : 60 \n",
      "-----------------------------\n",
      "\n",
      "Epoch 1/2\n"
     ]
    },
    {
     "name": "stderr",
     "output_type": "stream",
     "text": [
      "2023-02-24 15:22:15.896877: I tensorflow/core/grappler/optimizers/custom_graph_optimizer_registry.cc:114] Plugin optimizer for device_type GPU is enabled.\n"
     ]
    },
    {
     "name": "stdout",
     "output_type": "stream",
     "text": [
      "704/704 [==============================] - ETA: 0s - loss: 0.2240 - acc: 0.0000e+00"
     ]
    },
    {
     "name": "stderr",
     "output_type": "stream",
     "text": [
      "2023-02-24 15:22:20.583295: I tensorflow/core/grappler/optimizers/custom_graph_optimizer_registry.cc:114] Plugin optimizer for device_type GPU is enabled.\n"
     ]
    },
    {
     "name": "stdout",
     "output_type": "stream",
     "text": [
      "704/704 [==============================] - 5s 7ms/step - loss: 0.2240 - acc: 0.0000e+00 - val_loss: 0.1925 - val_acc: 0.0000e+00\n",
      "Epoch 2/2\n",
      "704/704 [==============================] - 4s 6ms/step - loss: 0.1692 - acc: 0.0000e+00 - val_loss: 0.1462 - val_acc: 0.0000e+00\n",
      " 50/313 [===>..........................] - ETA: 0s"
     ]
    },
    {
     "name": "stderr",
     "output_type": "stream",
     "text": [
      "2023-02-24 15:22:25.635910: I tensorflow/core/grappler/optimizers/custom_graph_optimizer_registry.cc:114] Plugin optimizer for device_type GPU is enabled.\n"
     ]
    },
    {
     "name": "stdout",
     "output_type": "stream",
     "text": [
      "313/313 [==============================] - 1s 2ms/step\n",
      "--- Score (MSE) : 0.1477111782722429\n",
      "Epoch 1/2\n"
     ]
    },
    {
     "name": "stderr",
     "output_type": "stream",
     "text": [
      "2023-02-24 15:22:26.669391: I tensorflow/core/grappler/optimizers/custom_graph_optimizer_registry.cc:114] Plugin optimizer for device_type GPU is enabled.\n"
     ]
    },
    {
     "name": "stdout",
     "output_type": "stream",
     "text": [
      "704/704 [==============================] - ETA: 0s - loss: 0.2192 - acc: 0.0000e+00"
     ]
    },
    {
     "name": "stderr",
     "output_type": "stream",
     "text": [
      "2023-02-24 15:22:31.579004: I tensorflow/core/grappler/optimizers/custom_graph_optimizer_registry.cc:114] Plugin optimizer for device_type GPU is enabled.\n"
     ]
    },
    {
     "name": "stdout",
     "output_type": "stream",
     "text": [
      "704/704 [==============================] - 6s 7ms/step - loss: 0.2192 - acc: 0.0000e+00 - val_loss: 0.1903 - val_acc: 0.0000e+00\n",
      "Epoch 2/2\n",
      "704/704 [==============================] - 4s 6ms/step - loss: 0.1685 - acc: 0.0000e+00 - val_loss: 0.1468 - val_acc: 0.0000e+00\n",
      " 48/313 [===>..........................] - ETA: 0s"
     ]
    },
    {
     "name": "stderr",
     "output_type": "stream",
     "text": [
      "2023-02-24 15:22:36.555155: I tensorflow/core/grappler/optimizers/custom_graph_optimizer_registry.cc:114] Plugin optimizer for device_type GPU is enabled.\n"
     ]
    },
    {
     "name": "stdout",
     "output_type": "stream",
     "text": [
      "313/313 [==============================] - 1s 2ms/step\n",
      "--- Score (MSE) : 0.14831121020279098\n",
      "-----------------------------\n",
      "\n",
      "Training models for lat_dim = : 70 \n",
      "-----------------------------\n",
      "\n",
      "Epoch 1/2\n"
     ]
    },
    {
     "name": "stderr",
     "output_type": "stream",
     "text": [
      "2023-02-24 15:22:37.576914: I tensorflow/core/grappler/optimizers/custom_graph_optimizer_registry.cc:114] Plugin optimizer for device_type GPU is enabled.\n"
     ]
    },
    {
     "name": "stdout",
     "output_type": "stream",
     "text": [
      "704/704 [==============================] - ETA: 0s - loss: 0.2366 - acc: 0.0000e+00"
     ]
    },
    {
     "name": "stderr",
     "output_type": "stream",
     "text": [
      "2023-02-24 15:22:42.558457: I tensorflow/core/grappler/optimizers/custom_graph_optimizer_registry.cc:114] Plugin optimizer for device_type GPU is enabled.\n"
     ]
    },
    {
     "name": "stdout",
     "output_type": "stream",
     "text": [
      "704/704 [==============================] - 6s 7ms/step - loss: 0.2366 - acc: 0.0000e+00 - val_loss: 0.2005 - val_acc: 0.0000e+00\n",
      "Epoch 2/2\n",
      "704/704 [==============================] - 4s 6ms/step - loss: 0.1738 - acc: 0.0000e+00 - val_loss: 0.1479 - val_acc: 0.0000e+00\n",
      " 23/313 [=>............................] - ETA: 0s "
     ]
    },
    {
     "name": "stderr",
     "output_type": "stream",
     "text": [
      "2023-02-24 15:22:47.625566: I tensorflow/core/grappler/optimizers/custom_graph_optimizer_registry.cc:114] Plugin optimizer for device_type GPU is enabled.\n"
     ]
    },
    {
     "name": "stdout",
     "output_type": "stream",
     "text": [
      "313/313 [==============================] - 1s 2ms/step\n",
      "--- Score (MSE) : 0.14934313651194966\n",
      "Epoch 1/2\n"
     ]
    },
    {
     "name": "stderr",
     "output_type": "stream",
     "text": [
      "2023-02-24 15:22:48.672141: I tensorflow/core/grappler/optimizers/custom_graph_optimizer_registry.cc:114] Plugin optimizer for device_type GPU is enabled.\n"
     ]
    },
    {
     "name": "stdout",
     "output_type": "stream",
     "text": [
      "704/704 [==============================] - ETA: 0s - loss: 0.2107 - acc: 0.0000e+00"
     ]
    },
    {
     "name": "stderr",
     "output_type": "stream",
     "text": [
      "2023-02-24 15:22:53.699118: I tensorflow/core/grappler/optimizers/custom_graph_optimizer_registry.cc:114] Plugin optimizer for device_type GPU is enabled.\n"
     ]
    },
    {
     "name": "stdout",
     "output_type": "stream",
     "text": [
      "704/704 [==============================] - 6s 8ms/step - loss: 0.2107 - acc: 0.0000e+00 - val_loss: 0.1797 - val_acc: 0.0000e+00\n",
      "Epoch 2/2\n",
      "704/704 [==============================] - 5s 7ms/step - loss: 0.1564 - acc: 0.0000e+00 - val_loss: 0.1335 - val_acc: 0.0000e+00\n",
      " 23/313 [=>............................] - ETA: 0s "
     ]
    },
    {
     "name": "stderr",
     "output_type": "stream",
     "text": [
      "2023-02-24 15:22:59.237442: I tensorflow/core/grappler/optimizers/custom_graph_optimizer_registry.cc:114] Plugin optimizer for device_type GPU is enabled.\n"
     ]
    },
    {
     "name": "stdout",
     "output_type": "stream",
     "text": [
      "313/313 [==============================] - 1s 2ms/step\n",
      "--- Score (MSE) : 0.1349702475019354\n",
      "-----------------------------\n",
      "\n",
      "Training models for lat_dim = : 80 \n",
      "-----------------------------\n",
      "\n",
      "Epoch 1/2\n"
     ]
    },
    {
     "name": "stderr",
     "output_type": "stream",
     "text": [
      "2023-02-24 15:23:00.295912: I tensorflow/core/grappler/optimizers/custom_graph_optimizer_registry.cc:114] Plugin optimizer for device_type GPU is enabled.\n"
     ]
    },
    {
     "name": "stdout",
     "output_type": "stream",
     "text": [
      "704/704 [==============================] - ETA: 0s - loss: 0.2532 - acc: 0.0000e+00"
     ]
    },
    {
     "name": "stderr",
     "output_type": "stream",
     "text": [
      "2023-02-24 15:23:05.326713: I tensorflow/core/grappler/optimizers/custom_graph_optimizer_registry.cc:114] Plugin optimizer for device_type GPU is enabled.\n"
     ]
    },
    {
     "name": "stdout",
     "output_type": "stream",
     "text": [
      "704/704 [==============================] - 6s 7ms/step - loss: 0.2532 - acc: 0.0000e+00 - val_loss: 0.2182 - val_acc: 0.0000e+00\n",
      "Epoch 2/2\n",
      "704/704 [==============================] - 5s 7ms/step - loss: 0.1919 - acc: 0.0000e+00 - val_loss: 0.1659 - val_acc: 0.0000e+00\n",
      " 29/313 [=>............................] - ETA: 1s"
     ]
    },
    {
     "name": "stderr",
     "output_type": "stream",
     "text": [
      "2023-02-24 15:23:10.573135: I tensorflow/core/grappler/optimizers/custom_graph_optimizer_registry.cc:114] Plugin optimizer for device_type GPU is enabled.\n"
     ]
    },
    {
     "name": "stdout",
     "output_type": "stream",
     "text": [
      "313/313 [==============================] - 1s 3ms/step\n",
      "--- Score (MSE) : 0.16750677682602585\n",
      "Epoch 1/2\n"
     ]
    },
    {
     "name": "stderr",
     "output_type": "stream",
     "text": [
      "2023-02-24 15:23:11.774409: I tensorflow/core/grappler/optimizers/custom_graph_optimizer_registry.cc:114] Plugin optimizer for device_type GPU is enabled.\n"
     ]
    },
    {
     "name": "stdout",
     "output_type": "stream",
     "text": [
      "704/704 [==============================] - ETA: 0s - loss: 0.1621 - acc: 0.0000e+00"
     ]
    },
    {
     "name": "stderr",
     "output_type": "stream",
     "text": [
      "2023-02-24 15:23:16.770977: I tensorflow/core/grappler/optimizers/custom_graph_optimizer_registry.cc:114] Plugin optimizer for device_type GPU is enabled.\n"
     ]
    },
    {
     "name": "stdout",
     "output_type": "stream",
     "text": [
      "704/704 [==============================] - 6s 8ms/step - loss: 0.1621 - acc: 0.0000e+00 - val_loss: 0.1348 - val_acc: 0.0000e+00\n",
      "Epoch 2/2\n",
      "704/704 [==============================] - 5s 6ms/step - loss: 0.1149 - acc: 0.0000e+00 - val_loss: 0.0958 - val_acc: 0.0000e+00\n",
      " 49/313 [===>..........................] - ETA: 0s"
     ]
    },
    {
     "name": "stderr",
     "output_type": "stream",
     "text": [
      "2023-02-24 15:23:22.079695: I tensorflow/core/grappler/optimizers/custom_graph_optimizer_registry.cc:114] Plugin optimizer for device_type GPU is enabled.\n"
     ]
    },
    {
     "name": "stdout",
     "output_type": "stream",
     "text": [
      "313/313 [==============================] - 1s 2ms/step\n",
      "--- Score (MSE) : 0.09695008209293617\n",
      "-----------------------------\n",
      "\n",
      "Training models for lat_dim = : 90 \n",
      "-----------------------------\n",
      "\n",
      "Epoch 1/2\n"
     ]
    },
    {
     "name": "stderr",
     "output_type": "stream",
     "text": [
      "2023-02-24 15:23:23.172005: I tensorflow/core/grappler/optimizers/custom_graph_optimizer_registry.cc:114] Plugin optimizer for device_type GPU is enabled.\n"
     ]
    },
    {
     "name": "stdout",
     "output_type": "stream",
     "text": [
      "704/704 [==============================] - ETA: 0s - loss: 0.2445 - acc: 0.0000e+00"
     ]
    },
    {
     "name": "stderr",
     "output_type": "stream",
     "text": [
      "2023-02-24 15:23:27.974537: I tensorflow/core/grappler/optimizers/custom_graph_optimizer_registry.cc:114] Plugin optimizer for device_type GPU is enabled.\n"
     ]
    },
    {
     "name": "stdout",
     "output_type": "stream",
     "text": [
      "704/704 [==============================] - 6s 7ms/step - loss: 0.2445 - acc: 0.0000e+00 - val_loss: 0.2123 - val_acc: 0.0000e+00\n",
      "Epoch 2/2\n",
      "704/704 [==============================] - 4s 6ms/step - loss: 0.1879 - acc: 0.0000e+00 - val_loss: 0.1637 - val_acc: 0.0000e+00\n",
      " 19/313 [>.............................] - ETA: 1s"
     ]
    },
    {
     "name": "stderr",
     "output_type": "stream",
     "text": [
      "2023-02-24 15:23:32.975192: I tensorflow/core/grappler/optimizers/custom_graph_optimizer_registry.cc:114] Plugin optimizer for device_type GPU is enabled.\n"
     ]
    },
    {
     "name": "stdout",
     "output_type": "stream",
     "text": [
      "313/313 [==============================] - 1s 2ms/step\n",
      "--- Score (MSE) : 0.1652407638443493\n",
      "Epoch 1/2\n"
     ]
    },
    {
     "name": "stderr",
     "output_type": "stream",
     "text": [
      "2023-02-24 15:23:34.048598: I tensorflow/core/grappler/optimizers/custom_graph_optimizer_registry.cc:114] Plugin optimizer for device_type GPU is enabled.\n"
     ]
    },
    {
     "name": "stdout",
     "output_type": "stream",
     "text": [
      "704/704 [==============================] - ETA: 0s - loss: 0.2532 - acc: 0.0000e+00"
     ]
    },
    {
     "name": "stderr",
     "output_type": "stream",
     "text": [
      "2023-02-24 15:23:39.283347: I tensorflow/core/grappler/optimizers/custom_graph_optimizer_registry.cc:114] Plugin optimizer for device_type GPU is enabled.\n"
     ]
    },
    {
     "name": "stdout",
     "output_type": "stream",
     "text": [
      "704/704 [==============================] - 6s 8ms/step - loss: 0.2532 - acc: 0.0000e+00 - val_loss: 0.2196 - val_acc: 0.0000e+00\n",
      "Epoch 2/2\n",
      "704/704 [==============================] - 5s 7ms/step - loss: 0.1940 - acc: 0.0000e+00 - val_loss: 0.1686 - val_acc: 0.0000e+00\n",
      " 20/313 [>.............................] - ETA: 0s "
     ]
    },
    {
     "name": "stderr",
     "output_type": "stream",
     "text": [
      "2023-02-24 15:23:45.086534: I tensorflow/core/grappler/optimizers/custom_graph_optimizer_registry.cc:114] Plugin optimizer for device_type GPU is enabled.\n"
     ]
    },
    {
     "name": "stdout",
     "output_type": "stream",
     "text": [
      "313/313 [==============================] - 1s 3ms/step\n",
      "--- Score (MSE) : 0.17017445654713295\n",
      "-----------------------------\n",
      "\n",
      "Training models for lat_dim = : 100 \n",
      "-----------------------------\n",
      "\n",
      "Epoch 1/2\n"
     ]
    },
    {
     "name": "stderr",
     "output_type": "stream",
     "text": [
      "2023-02-24 15:23:51.034151: I tensorflow/core/grappler/optimizers/custom_graph_optimizer_registry.cc:114] Plugin optimizer for device_type GPU is enabled.\n"
     ]
    },
    {
     "name": "stdout",
     "output_type": "stream",
     "text": [
      "704/704 [==============================] - ETA: 0s - loss: 0.2664 - acc: 0.0000e+00"
     ]
    },
    {
     "name": "stderr",
     "output_type": "stream",
     "text": [
      "2023-02-24 15:23:57.530986: I tensorflow/core/grappler/optimizers/custom_graph_optimizer_registry.cc:114] Plugin optimizer for device_type GPU is enabled.\n"
     ]
    },
    {
     "name": "stdout",
     "output_type": "stream",
     "text": [
      "704/704 [==============================] - 12s 9ms/step - loss: 0.2664 - acc: 0.0000e+00 - val_loss: 0.2266 - val_acc: 0.0000e+00\n",
      "Epoch 2/2\n",
      "704/704 [==============================] - 5s 8ms/step - loss: 0.1973 - acc: 0.0000e+00 - val_loss: 0.1690 - val_acc: 0.0000e+00\n",
      " 17/313 [>.............................] - ETA: 0s "
     ]
    },
    {
     "name": "stderr",
     "output_type": "stream",
     "text": [
      "2023-02-24 15:24:03.590119: I tensorflow/core/grappler/optimizers/custom_graph_optimizer_registry.cc:114] Plugin optimizer for device_type GPU is enabled.\n"
     ]
    },
    {
     "name": "stdout",
     "output_type": "stream",
     "text": [
      "313/313 [==============================] - 1s 2ms/step\n",
      "--- Score (MSE) : 0.1705516806205123\n",
      "Epoch 1/2\n"
     ]
    },
    {
     "name": "stderr",
     "output_type": "stream",
     "text": [
      "2023-02-24 15:24:04.750865: I tensorflow/core/grappler/optimizers/custom_graph_optimizer_registry.cc:114] Plugin optimizer for device_type GPU is enabled.\n"
     ]
    },
    {
     "name": "stdout",
     "output_type": "stream",
     "text": [
      "704/704 [==============================] - ETA: 0s - loss: 0.2357 - acc: 0.0000e+00"
     ]
    },
    {
     "name": "stderr",
     "output_type": "stream",
     "text": [
      "2023-02-24 15:24:09.925842: I tensorflow/core/grappler/optimizers/custom_graph_optimizer_registry.cc:114] Plugin optimizer for device_type GPU is enabled.\n"
     ]
    },
    {
     "name": "stdout",
     "output_type": "stream",
     "text": [
      "704/704 [==============================] - 6s 8ms/step - loss: 0.2357 - acc: 0.0000e+00 - val_loss: 0.2039 - val_acc: 0.0000e+00\n",
      "Epoch 2/2\n",
      "704/704 [==============================] - 5s 6ms/step - loss: 0.1798 - acc: 0.0000e+00 - val_loss: 0.1559 - val_acc: 0.0000e+00\n",
      " 44/313 [===>..........................] - ETA: 0s"
     ]
    },
    {
     "name": "stderr",
     "output_type": "stream",
     "text": [
      "2023-02-24 15:24:15.081865: I tensorflow/core/grappler/optimizers/custom_graph_optimizer_registry.cc:114] Plugin optimizer for device_type GPU is enabled.\n"
     ]
    },
    {
     "name": "stdout",
     "output_type": "stream",
     "text": [
      "313/313 [==============================] - 1s 2ms/step\n",
      "--- Score (MSE) : 0.15738357780050774\n"
     ]
    },
    {
     "data": {
      "image/png": "[encoded data removed]",
      "text/plain": [
       "<Figure size 640x480 with 1 Axes>"
      ]
     },
     "metadata": {},
     "output_type": "display_data"
    }
   ],
   "source": [
    "# Loop over the values of lat_dim and run the training experiment\n",
    "# Chooses combined_model(), which is then ReLu, as defined in task description\n",
    "\n",
    "n_epochs = 2\n",
    "batch_size = 128\n",
    "test_mse_values = []\n",
    "\n",
    "for lat_dim in lat_dim_range:\n",
    "    print(\"-----------------------------\\n\")\n",
    "    print(\"Training models for lat_dim = : %s \" % (int(lat_dim)))\n",
    "    print(\"-----------------------------\\n\")\n",
    "    mse_values = []\n",
    "    for i in range(2):\n",
    "        model_total = combined_model(lat_dim)\n",
    "        model_total.compile(optimizer=optimizer, loss='MSE', metrics=['acc'])\n",
    "        history = model_total.fit(X_train,                          \n",
    "                      y_train,                          \n",
    "                      epochs=n_epochs,                  \n",
    "                      batch_size=batch_size,  \n",
    "                      validation_split=val_split\n",
    "                      )\n",
    "        best_epoch = np.argmin(history.history['val_loss']) # returns the indices of the minimum values\n",
    "        # mse = np.mean((y_test - pred)**2) # calculates mean\n",
    "        pred = model_total.predict(X_test)\n",
    "        mse = metrics.mean_squared_error(pred, y_test)\n",
    "        mse_values.append(mse) # pushes values to save before calculation\n",
    "        print(f\"--- Score (MSE) : {mse}\")\n",
    "\n",
    "    avg_mse = np.mean(mse_values, axis=0)\n",
    "    test_mse_values.append(avg_mse)\n",
    "\n",
    "# Plotting MSE and lat_dim\n",
    "plt.plot(lat_dim_range, test_mse_values, 'b',label='MSE')\n",
    "plt.title('MSE vs. lat_dim')\n",
    "plt.xlabel('lat_dim')\n",
    "plt.ylabel('mean test MSE')\n",
    "plt.legend()\n",
    "plt.grid()\n",
    "plt.show()\n"
   ]
  },
  {
   "attachments": {},
   "cell_type": "markdown",
   "metadata": {},
   "source": [
    "Comments:\n",
    "- This grash displays a somewhat arbrirary relationship between test MSE and lat_dim. The higher the value of lat_dim, the higher the mean test MSE. However, given the large fluctuations in the values from epoch to epoch, the model seems not to be able to fit the training data well enough. This result indicates that a different neural network architechture, possibly with more layers than stated in the tast requirement, or further tuning of hyperparameters would be necessary to get a more convincing relationship between the dimentions and the MSE."
   ]
  },
  {
   "cell_type": "code",
   "execution_count": null,
   "metadata": {},
   "outputs": [],
   "source": []
  }
 ],
 "metadata": {
  "kernelspec": {
   "display_name": "tensorflow",
   "language": "python",
   "name": "python3"
  },
  "language_info": {
   "codemirror_mode": {
    "name": "ipython",
    "version": 3
   },
   "file_extension": ".py",
   "mimetype": "text/x-python",
   "name": "python",
   "nbconvert_exporter": "python",
   "pygments_lexer": "ipython3",
   "version": "3.10.8"
  },
  "orig_nbformat": 4,
  "vscode": {
   "interpreter": {
    "hash": "f19be9c6583db35fea0aaac514eb46c245ec0a947ce6f1f6768ef8d69014cc0e"
   }
  }
 },
 "nbformat": 4,
 "nbformat_minor": 2
}
